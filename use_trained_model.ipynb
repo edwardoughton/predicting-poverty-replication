{
 "cells": [
  {
   "cell_type": "code",
   "execution_count": 1,
   "metadata": {},
   "outputs": [],
   "source": [
    "import torch\n",
    "from torchvision import datasets, transforms\n",
    "import pandas as pd\n",
    "import numpy as np\n",
    "import os"
   ]
  },
  {
   "cell_type": "code",
   "execution_count": 2,
   "metadata": {},
   "outputs": [],
   "source": [
    "im_to_cons = pd.read_csv('process_data/all_ims_guide.csv')"
   ]
  },
  {
   "cell_type": "code",
   "execution_count": 3,
   "metadata": {},
   "outputs": [
    {
     "data": {
      "text/html": [
       "<div>\n",
       "<style scoped>\n",
       "    .dataframe tbody tr th:only-of-type {\n",
       "        vertical-align: middle;\n",
       "    }\n",
       "\n",
       "    .dataframe tbody tr th {\n",
       "        vertical-align: top;\n",
       "    }\n",
       "\n",
       "    .dataframe thead th {\n",
       "        text-align: right;\n",
       "    }\n",
       "</style>\n",
       "<table border=\"1\" class=\"dataframe\">\n",
       "  <thead>\n",
       "    <tr style=\"text-align: right;\">\n",
       "      <th></th>\n",
       "      <th>im_lat</th>\n",
       "      <th>im_lon</th>\n",
       "      <th>clust_lat</th>\n",
       "      <th>clust_lon</th>\n",
       "      <th>nightlight</th>\n",
       "      <th>consumption</th>\n",
       "      <th>nightlight_bin</th>\n",
       "      <th>images</th>\n",
       "      <th>clust_num</th>\n",
       "      <th>images_renamed</th>\n",
       "    </tr>\n",
       "  </thead>\n",
       "  <tbody>\n",
       "    <tr>\n",
       "      <th>0</th>\n",
       "      <td>-17.125000</td>\n",
       "      <td>35.174999</td>\n",
       "      <td>-17.09515</td>\n",
       "      <td>35.217213</td>\n",
       "      <td>0.0</td>\n",
       "      <td>2.039307</td>\n",
       "      <td>1</td>\n",
       "      <td>-17.125_35.174999.png</td>\n",
       "      <td>0</td>\n",
       "      <td>-17.125_35.174999_0.png</td>\n",
       "    </tr>\n",
       "    <tr>\n",
       "      <th>1</th>\n",
       "      <td>-17.133333</td>\n",
       "      <td>35.174999</td>\n",
       "      <td>-17.09515</td>\n",
       "      <td>35.217213</td>\n",
       "      <td>0.0</td>\n",
       "      <td>2.039307</td>\n",
       "      <td>1</td>\n",
       "      <td>-17.133333_35.174999.png</td>\n",
       "      <td>0</td>\n",
       "      <td>-17.133333_35.174999_0.png</td>\n",
       "    </tr>\n",
       "    <tr>\n",
       "      <th>2</th>\n",
       "      <td>-17.066666</td>\n",
       "      <td>35.191666</td>\n",
       "      <td>-17.09515</td>\n",
       "      <td>35.217213</td>\n",
       "      <td>0.0</td>\n",
       "      <td>2.039307</td>\n",
       "      <td>1</td>\n",
       "      <td>-17.066666_35.191666.png</td>\n",
       "      <td>0</td>\n",
       "      <td>-17.066666_35.191666_0.png</td>\n",
       "    </tr>\n",
       "    <tr>\n",
       "      <th>3</th>\n",
       "      <td>-17.050000</td>\n",
       "      <td>35.199999</td>\n",
       "      <td>-17.09515</td>\n",
       "      <td>35.217213</td>\n",
       "      <td>0.0</td>\n",
       "      <td>2.039307</td>\n",
       "      <td>1</td>\n",
       "      <td>-17.05_35.199999.png</td>\n",
       "      <td>0</td>\n",
       "      <td>-17.05_35.199999_0.png</td>\n",
       "    </tr>\n",
       "    <tr>\n",
       "      <th>4</th>\n",
       "      <td>-17.100000</td>\n",
       "      <td>35.199999</td>\n",
       "      <td>-17.09515</td>\n",
       "      <td>35.217213</td>\n",
       "      <td>0.0</td>\n",
       "      <td>2.039307</td>\n",
       "      <td>1</td>\n",
       "      <td>-17.1_35.199999.png</td>\n",
       "      <td>0</td>\n",
       "      <td>-17.1_35.199999_0.png</td>\n",
       "    </tr>\n",
       "  </tbody>\n",
       "</table>\n",
       "</div>"
      ],
      "text/plain": [
       "      im_lat     im_lon  clust_lat  clust_lon  nightlight  consumption  \\\n",
       "0 -17.125000  35.174999  -17.09515  35.217213         0.0     2.039307   \n",
       "1 -17.133333  35.174999  -17.09515  35.217213         0.0     2.039307   \n",
       "2 -17.066666  35.191666  -17.09515  35.217213         0.0     2.039307   \n",
       "3 -17.050000  35.199999  -17.09515  35.217213         0.0     2.039307   \n",
       "4 -17.100000  35.199999  -17.09515  35.217213         0.0     2.039307   \n",
       "\n",
       "   nightlight_bin                    images  clust_num  \\\n",
       "0               1     -17.125_35.174999.png          0   \n",
       "1               1  -17.133333_35.174999.png          0   \n",
       "2               1  -17.066666_35.191666.png          0   \n",
       "3               1      -17.05_35.199999.png          0   \n",
       "4               1       -17.1_35.199999.png          0   \n",
       "\n",
       "               images_renamed  \n",
       "0     -17.125_35.174999_0.png  \n",
       "1  -17.133333_35.174999_0.png  \n",
       "2  -17.066666_35.191666_0.png  \n",
       "3      -17.05_35.199999_0.png  \n",
       "4       -17.1_35.199999_0.png  "
      ]
     },
     "execution_count": 3,
     "metadata": {},
     "output_type": "execute_result"
    }
   ],
   "source": [
    "im_to_cons.head()"
   ]
  },
  {
   "cell_type": "code",
   "execution_count": 4,
   "metadata": {},
   "outputs": [],
   "source": [
    "# turn the data into a PyTorch Tensor\n",
    "data_transforms = {\n",
    "    'transform': transforms.Compose([\n",
    "        transforms.ToTensor(),\n",
    "    ]),\n",
    "}"
   ]
  },
  {
   "cell_type": "code",
   "execution_count": 7,
   "metadata": {},
   "outputs": [],
   "source": [
    "device = torch.device(\"cuda\")"
   ]
  },
  {
   "cell_type": "markdown",
   "metadata": {},
   "source": [
    "Run this if you want to see how many the model gets right on the train set. Keep in mind that nightlights is not the main objective but just a means to an end."
   ]
  },
  {
   "cell_type": "code",
   "execution_count": null,
   "metadata": {},
   "outputs": [],
   "source": [
    "# model_ft.eval()   # Set model to evaluate mode\n",
    "\n",
    "# running_loss = 0.0\n",
    "# running_corrects = 0\n",
    "# total = 0\n",
    "\n",
    "# # Iterate over data.\n",
    "# for inputs, labels in dataloaders_dict['train']:\n",
    "#     inputs = inputs.to(device)\n",
    "#     labels = labels.to(device)\n",
    "\n",
    "#     # forward\n",
    "#     # track history if only in train\n",
    "#     with torch.set_grad_enabled(False):\n",
    "#         outputs = model_ft(inputs)\n",
    "#         loss = criterion(outputs, labels)\n",
    "\n",
    "#         _, preds = torch.max(outputs, 1)\n",
    "\n",
    "#     # statistics\n",
    "#     running_loss += loss.item() * inputs.size(0)\n",
    "#     running_corrects += torch.sum(preds == labels.data)\n",
    "    \n",
    "#     total += len(preds)\n",
    "#     if total == 1000:\n",
    "#         break\n",
    "        \n",
    "# running_corrects.double()/total"
   ]
  },
  {
   "cell_type": "code",
   "execution_count": 8,
   "metadata": {},
   "outputs": [],
   "source": [
    "from PIL import Image\n",
    "import matplotlib.pyplot as plt\n",
    "\n",
    "def filename_to_im_tensor(file):\n",
    "    im = plt.imread(file)[:,:,:3]\n",
    "    im = data_transforms['transform'](im)\n",
    "    return im[None].to(device)"
   ]
  },
  {
   "cell_type": "code",
   "execution_count": 9,
   "metadata": {},
   "outputs": [],
   "source": [
    "model_ft = torch.load('trained_model.pt')"
   ]
  },
  {
   "cell_type": "code",
   "execution_count": 10,
   "metadata": {},
   "outputs": [
    {
     "data": {
      "text/plain": [
       "Sequential(\n",
       "  (0): Linear(in_features=25088, out_features=4096, bias=True)\n",
       "  (1): ReLU(inplace)\n",
       "  (2): Dropout(p=0.5)\n",
       "  (3): Linear(in_features=4096, out_features=4096, bias=True)\n",
       "  (4): ReLU(inplace)\n",
       "  (5): Dropout(p=0.5)\n",
       "  (6): Linear(in_features=4096, out_features=3, bias=True)\n",
       ")"
      ]
     },
     "execution_count": 10,
     "metadata": {},
     "output_type": "execute_result"
    }
   ],
   "source": [
    "model_ft.classifier"
   ]
  },
  {
   "cell_type": "code",
   "execution_count": 11,
   "metadata": {},
   "outputs": [
    {
     "data": {
      "text/plain": [
       "Sequential(\n",
       "  (0): Linear(in_features=25088, out_features=4096, bias=True)\n",
       "  (1): ReLU(inplace)\n",
       "  (2): Dropout(p=0.5)\n",
       "  (3): Linear(in_features=4096, out_features=4096, bias=True)\n",
       ")"
      ]
     },
     "execution_count": 11,
     "metadata": {},
     "output_type": "execute_result"
    }
   ],
   "source": [
    "# now we \"rip\" off the final layers\n",
    "ripped = model_ft.classifier\n",
    "del ripped[6]\n",
    "del ripped[5]\n",
    "del ripped[4]\n",
    "ripped"
   ]
  },
  {
   "cell_type": "code",
   "execution_count": 4,
   "metadata": {},
   "outputs": [
    {
     "data": {
      "text/plain": [
       "(19997, 10)"
      ]
     },
     "execution_count": 4,
     "metadata": {},
     "output_type": "execute_result"
    }
   ],
   "source": [
    "unique_ims = im_to_cons.drop_duplicates(subset='images'); unique_ims.shape"
   ]
  },
  {
   "cell_type": "code",
   "execution_count": 14,
   "metadata": {},
   "outputs": [],
   "source": [
    "feats = np.zeros((unique_ims.shape[0],4096))"
   ]
  },
  {
   "cell_type": "code",
   "execution_count": 15,
   "metadata": {},
   "outputs": [
    {
     "data": {
      "text/plain": [
       "VGG(\n",
       "  (features): Sequential(\n",
       "    (0): Conv2d(3, 64, kernel_size=(3, 3), stride=(1, 1), padding=(1, 1))\n",
       "    (1): BatchNorm2d(64, eps=1e-05, momentum=0.1, affine=True, track_running_stats=True)\n",
       "    (2): ReLU(inplace)\n",
       "    (3): MaxPool2d(kernel_size=2, stride=2, padding=0, dilation=1, ceil_mode=False)\n",
       "    (4): Conv2d(64, 128, kernel_size=(3, 3), stride=(1, 1), padding=(1, 1))\n",
       "    (5): BatchNorm2d(128, eps=1e-05, momentum=0.1, affine=True, track_running_stats=True)\n",
       "    (6): ReLU(inplace)\n",
       "    (7): MaxPool2d(kernel_size=2, stride=2, padding=0, dilation=1, ceil_mode=False)\n",
       "    (8): Conv2d(128, 256, kernel_size=(3, 3), stride=(1, 1), padding=(1, 1))\n",
       "    (9): BatchNorm2d(256, eps=1e-05, momentum=0.1, affine=True, track_running_stats=True)\n",
       "    (10): ReLU(inplace)\n",
       "    (11): Conv2d(256, 256, kernel_size=(3, 3), stride=(1, 1), padding=(1, 1))\n",
       "    (12): BatchNorm2d(256, eps=1e-05, momentum=0.1, affine=True, track_running_stats=True)\n",
       "    (13): ReLU(inplace)\n",
       "    (14): MaxPool2d(kernel_size=2, stride=2, padding=0, dilation=1, ceil_mode=False)\n",
       "    (15): Conv2d(256, 512, kernel_size=(3, 3), stride=(1, 1), padding=(1, 1))\n",
       "    (16): BatchNorm2d(512, eps=1e-05, momentum=0.1, affine=True, track_running_stats=True)\n",
       "    (17): ReLU(inplace)\n",
       "    (18): Conv2d(512, 512, kernel_size=(3, 3), stride=(1, 1), padding=(1, 1))\n",
       "    (19): BatchNorm2d(512, eps=1e-05, momentum=0.1, affine=True, track_running_stats=True)\n",
       "    (20): ReLU(inplace)\n",
       "    (21): MaxPool2d(kernel_size=2, stride=2, padding=0, dilation=1, ceil_mode=False)\n",
       "    (22): Conv2d(512, 512, kernel_size=(3, 3), stride=(1, 1), padding=(1, 1))\n",
       "    (23): BatchNorm2d(512, eps=1e-05, momentum=0.1, affine=True, track_running_stats=True)\n",
       "    (24): ReLU(inplace)\n",
       "    (25): Conv2d(512, 512, kernel_size=(3, 3), stride=(1, 1), padding=(1, 1))\n",
       "    (26): BatchNorm2d(512, eps=1e-05, momentum=0.1, affine=True, track_running_stats=True)\n",
       "    (27): ReLU(inplace)\n",
       "    (28): MaxPool2d(kernel_size=2, stride=2, padding=0, dilation=1, ceil_mode=False)\n",
       "  )\n",
       "  (avgpool): AdaptiveAvgPool2d(output_size=(7, 7))\n",
       "  (classifier): Sequential(\n",
       "    (0): Linear(in_features=25088, out_features=4096, bias=True)\n",
       "    (1): ReLU(inplace)\n",
       "    (2): Dropout(p=0.5)\n",
       "    (3): Linear(in_features=4096, out_features=4096, bias=True)\n",
       "  )\n",
       ")"
      ]
     },
     "execution_count": 15,
     "metadata": {},
     "output_type": "execute_result"
    }
   ],
   "source": [
    "model_ft.to(device)"
   ]
  },
  {
   "cell_type": "code",
   "execution_count": 46,
   "metadata": {},
   "outputs": [
    {
     "name": "stdout",
     "output_type": "stream",
     "text": [
      "0, 100, 200, 300, 400, 500, 600, 700, 800, 900, 1000, 1100, 1200, 1300, 1400, 1500, 1600, 1700, 1800, 1900, 2000, 2100, 2200, 2300, 2400, 2500, 2600, 2700, 2800, 2900, 3000, 3100, 3200, 3300, 3400, 3500, 3600, 3700, 3800, 3900, 4000, 4100, 4200, 4300, 4400, 4500, 4600, 4700, 4800, 4900, 5000, 5100, 5200, 5300, 5400, 5500, 5600, 5700, 5800, 5900, 6000, 6100, 6200, 6300, 6400, 6500, 6600, 6700, 6800, 6900, 7000, 7100, 7200, 7300, 7400, 7500, 7600, 7700, 7800, 7900, 8000, 8100, 8200, 8300, 8400, 8500, 8600, 8700, 8800, 8900, 9000, 9100, 9200, 9300, 9400, 9500, 9600, 9700, 9800, 9900, 10000, 10100, 10200, 10300, 10400, 10500, 10600, 10700, 10800, 10900, 11000, 11100, 11200, 11300, 11400, 11500, 11600, 11700, 11800, 11900, 12000, 12100, 12200, 12300, 12400, 12500, 12600, 12700, 12800, 12900, 13000, 13100, 13200, 13300, 13400, 13500, 13600, 13700, 13800, 13900, 14000, 14100, 14200, 14300, 14400, 14500, 14600, 14700, 14800, 14900, 15000, 15100, 15200, 15300, 15400, 15500, 15600, 15700, 15800, 15900, 16000, 16100, 16200, 16300, 16400, 16500, 16600, 16700, 16800, 16900, 17000, 17100, 17200, 17300, 17400, 17500, 17600, 17700, 17800, 17900, 18000, 18100, 18200, 18300, 18400, 18500, 18600, 18700, 18800, 18900, 19000, 19100, 19200, 19300, 19400, 19500, 19600, 19700, 19800, 19900, "
     ]
    }
   ],
   "source": [
    "# this might take around 45 minutes\n",
    "model_ft.eval()\n",
    "for i, im_name in enumerate(unique_ims['images']):\n",
    "    image = filename_to_im_tensor('process_data/data/ims_malawi_2016/{}'.format(im_name))\n",
    "    res = np.array(model_ft(image).cpu().detach().numpy().tolist()[0])\n",
    "    feats[i,:] += res\n",
    "    if i % 100 == 0:\n",
    "        print(i, end=', ')"
   ]
  },
  {
   "cell_type": "code",
   "execution_count": 47,
   "metadata": {},
   "outputs": [],
   "source": [
    "# save them for safekeeping\n",
    "np.save('forward_feats_trained_model.npy', feats)"
   ]
  },
  {
   "cell_type": "code",
   "execution_count": 5,
   "metadata": {},
   "outputs": [],
   "source": [
    "feats = np.load('forward_feats_trained_model.npy')"
   ]
  },
  {
   "cell_type": "code",
   "execution_count": 6,
   "metadata": {},
   "outputs": [
    {
     "data": {
      "text/html": [
       "<div>\n",
       "<style scoped>\n",
       "    .dataframe tbody tr th:only-of-type {\n",
       "        vertical-align: middle;\n",
       "    }\n",
       "\n",
       "    .dataframe tbody tr th {\n",
       "        vertical-align: top;\n",
       "    }\n",
       "\n",
       "    .dataframe thead th {\n",
       "        text-align: right;\n",
       "    }\n",
       "</style>\n",
       "<table border=\"1\" class=\"dataframe\">\n",
       "  <thead>\n",
       "    <tr style=\"text-align: right;\">\n",
       "      <th></th>\n",
       "      <th>im_lat</th>\n",
       "      <th>im_lon</th>\n",
       "      <th>clust_lat</th>\n",
       "      <th>clust_lon</th>\n",
       "      <th>nightlight</th>\n",
       "      <th>consumption</th>\n",
       "      <th>nightlight_bin</th>\n",
       "      <th>images</th>\n",
       "      <th>clust_num</th>\n",
       "      <th>images_renamed</th>\n",
       "    </tr>\n",
       "  </thead>\n",
       "  <tbody>\n",
       "    <tr>\n",
       "      <th>0</th>\n",
       "      <td>-17.125000</td>\n",
       "      <td>35.174999</td>\n",
       "      <td>-17.09515</td>\n",
       "      <td>35.217213</td>\n",
       "      <td>0.0</td>\n",
       "      <td>2.039307</td>\n",
       "      <td>1</td>\n",
       "      <td>-17.125_35.174999.png</td>\n",
       "      <td>0</td>\n",
       "      <td>-17.125_35.174999_0.png</td>\n",
       "    </tr>\n",
       "    <tr>\n",
       "      <th>1</th>\n",
       "      <td>-17.133333</td>\n",
       "      <td>35.174999</td>\n",
       "      <td>-17.09515</td>\n",
       "      <td>35.217213</td>\n",
       "      <td>0.0</td>\n",
       "      <td>2.039307</td>\n",
       "      <td>1</td>\n",
       "      <td>-17.133333_35.174999.png</td>\n",
       "      <td>0</td>\n",
       "      <td>-17.133333_35.174999_0.png</td>\n",
       "    </tr>\n",
       "    <tr>\n",
       "      <th>2</th>\n",
       "      <td>-17.066666</td>\n",
       "      <td>35.191666</td>\n",
       "      <td>-17.09515</td>\n",
       "      <td>35.217213</td>\n",
       "      <td>0.0</td>\n",
       "      <td>2.039307</td>\n",
       "      <td>1</td>\n",
       "      <td>-17.066666_35.191666.png</td>\n",
       "      <td>0</td>\n",
       "      <td>-17.066666_35.191666_0.png</td>\n",
       "    </tr>\n",
       "    <tr>\n",
       "      <th>3</th>\n",
       "      <td>-17.050000</td>\n",
       "      <td>35.199999</td>\n",
       "      <td>-17.09515</td>\n",
       "      <td>35.217213</td>\n",
       "      <td>0.0</td>\n",
       "      <td>2.039307</td>\n",
       "      <td>1</td>\n",
       "      <td>-17.05_35.199999.png</td>\n",
       "      <td>0</td>\n",
       "      <td>-17.05_35.199999_0.png</td>\n",
       "    </tr>\n",
       "    <tr>\n",
       "      <th>4</th>\n",
       "      <td>-17.100000</td>\n",
       "      <td>35.199999</td>\n",
       "      <td>-17.09515</td>\n",
       "      <td>35.217213</td>\n",
       "      <td>0.0</td>\n",
       "      <td>2.039307</td>\n",
       "      <td>1</td>\n",
       "      <td>-17.1_35.199999.png</td>\n",
       "      <td>0</td>\n",
       "      <td>-17.1_35.199999_0.png</td>\n",
       "    </tr>\n",
       "  </tbody>\n",
       "</table>\n",
       "</div>"
      ],
      "text/plain": [
       "      im_lat     im_lon  clust_lat  clust_lon  nightlight  consumption  \\\n",
       "0 -17.125000  35.174999  -17.09515  35.217213         0.0     2.039307   \n",
       "1 -17.133333  35.174999  -17.09515  35.217213         0.0     2.039307   \n",
       "2 -17.066666  35.191666  -17.09515  35.217213         0.0     2.039307   \n",
       "3 -17.050000  35.199999  -17.09515  35.217213         0.0     2.039307   \n",
       "4 -17.100000  35.199999  -17.09515  35.217213         0.0     2.039307   \n",
       "\n",
       "   nightlight_bin                    images  clust_num  \\\n",
       "0               1     -17.125_35.174999.png          0   \n",
       "1               1  -17.133333_35.174999.png          0   \n",
       "2               1  -17.066666_35.191666.png          0   \n",
       "3               1      -17.05_35.199999.png          0   \n",
       "4               1       -17.1_35.199999.png          0   \n",
       "\n",
       "               images_renamed  \n",
       "0     -17.125_35.174999_0.png  \n",
       "1  -17.133333_35.174999_0.png  \n",
       "2  -17.066666_35.191666_0.png  \n",
       "3      -17.05_35.199999_0.png  \n",
       "4       -17.1_35.199999_0.png  "
      ]
     },
     "execution_count": 6,
     "metadata": {},
     "output_type": "execute_result"
    }
   ],
   "source": [
    "unique_ims.head()"
   ]
  },
  {
   "cell_type": "code",
   "execution_count": 7,
   "metadata": {},
   "outputs": [],
   "source": [
    "unique_ims = unique_ims[['images']]\n",
    "unique_ims['feat_index'] = np.arange(len(unique_ims))"
   ]
  },
  {
   "cell_type": "code",
   "execution_count": 8,
   "metadata": {},
   "outputs": [
    {
     "data": {
      "text/html": [
       "<div>\n",
       "<style scoped>\n",
       "    .dataframe tbody tr th:only-of-type {\n",
       "        vertical-align: middle;\n",
       "    }\n",
       "\n",
       "    .dataframe tbody tr th {\n",
       "        vertical-align: top;\n",
       "    }\n",
       "\n",
       "    .dataframe thead th {\n",
       "        text-align: right;\n",
       "    }\n",
       "</style>\n",
       "<table border=\"1\" class=\"dataframe\">\n",
       "  <thead>\n",
       "    <tr style=\"text-align: right;\">\n",
       "      <th></th>\n",
       "      <th>images</th>\n",
       "      <th>feat_index</th>\n",
       "    </tr>\n",
       "  </thead>\n",
       "  <tbody>\n",
       "    <tr>\n",
       "      <th>0</th>\n",
       "      <td>-17.125_35.174999.png</td>\n",
       "      <td>0</td>\n",
       "    </tr>\n",
       "    <tr>\n",
       "      <th>1</th>\n",
       "      <td>-17.133333_35.174999.png</td>\n",
       "      <td>1</td>\n",
       "    </tr>\n",
       "    <tr>\n",
       "      <th>2</th>\n",
       "      <td>-17.066666_35.191666.png</td>\n",
       "      <td>2</td>\n",
       "    </tr>\n",
       "    <tr>\n",
       "      <th>3</th>\n",
       "      <td>-17.05_35.199999.png</td>\n",
       "      <td>3</td>\n",
       "    </tr>\n",
       "    <tr>\n",
       "      <th>4</th>\n",
       "      <td>-17.1_35.199999.png</td>\n",
       "      <td>4</td>\n",
       "    </tr>\n",
       "  </tbody>\n",
       "</table>\n",
       "</div>"
      ],
      "text/plain": [
       "                     images  feat_index\n",
       "0     -17.125_35.174999.png           0\n",
       "1  -17.133333_35.174999.png           1\n",
       "2  -17.066666_35.191666.png           2\n",
       "3      -17.05_35.199999.png           3\n",
       "4       -17.1_35.199999.png           4"
      ]
     },
     "execution_count": 8,
     "metadata": {},
     "output_type": "execute_result"
    }
   ],
   "source": [
    "unique_ims.head()"
   ]
  },
  {
   "cell_type": "code",
   "execution_count": 9,
   "metadata": {},
   "outputs": [],
   "source": [
    "im_to_cons = pd.merge(left=im_to_cons, right=unique_ims, on='images')"
   ]
  },
  {
   "cell_type": "code",
   "execution_count": 10,
   "metadata": {},
   "outputs": [
    {
     "data": {
      "text/html": [
       "<div>\n",
       "<style scoped>\n",
       "    .dataframe tbody tr th:only-of-type {\n",
       "        vertical-align: middle;\n",
       "    }\n",
       "\n",
       "    .dataframe tbody tr th {\n",
       "        vertical-align: top;\n",
       "    }\n",
       "\n",
       "    .dataframe thead th {\n",
       "        text-align: right;\n",
       "    }\n",
       "</style>\n",
       "<table border=\"1\" class=\"dataframe\">\n",
       "  <thead>\n",
       "    <tr style=\"text-align: right;\">\n",
       "      <th></th>\n",
       "      <th>im_lat</th>\n",
       "      <th>im_lon</th>\n",
       "      <th>clust_lat</th>\n",
       "      <th>clust_lon</th>\n",
       "      <th>nightlight</th>\n",
       "      <th>consumption</th>\n",
       "      <th>nightlight_bin</th>\n",
       "      <th>images</th>\n",
       "      <th>clust_num</th>\n",
       "      <th>images_renamed</th>\n",
       "      <th>feat_index</th>\n",
       "    </tr>\n",
       "  </thead>\n",
       "  <tbody>\n",
       "    <tr>\n",
       "      <th>0</th>\n",
       "      <td>-17.125000</td>\n",
       "      <td>35.174999</td>\n",
       "      <td>-17.09515</td>\n",
       "      <td>35.217213</td>\n",
       "      <td>0.0</td>\n",
       "      <td>2.039307</td>\n",
       "      <td>1</td>\n",
       "      <td>-17.125_35.174999.png</td>\n",
       "      <td>0</td>\n",
       "      <td>-17.125_35.174999_0.png</td>\n",
       "      <td>0</td>\n",
       "    </tr>\n",
       "    <tr>\n",
       "      <th>1</th>\n",
       "      <td>-17.133333</td>\n",
       "      <td>35.174999</td>\n",
       "      <td>-17.09515</td>\n",
       "      <td>35.217213</td>\n",
       "      <td>0.0</td>\n",
       "      <td>2.039307</td>\n",
       "      <td>1</td>\n",
       "      <td>-17.133333_35.174999.png</td>\n",
       "      <td>0</td>\n",
       "      <td>-17.133333_35.174999_0.png</td>\n",
       "      <td>1</td>\n",
       "    </tr>\n",
       "    <tr>\n",
       "      <th>2</th>\n",
       "      <td>-17.066666</td>\n",
       "      <td>35.191666</td>\n",
       "      <td>-17.09515</td>\n",
       "      <td>35.217213</td>\n",
       "      <td>0.0</td>\n",
       "      <td>2.039307</td>\n",
       "      <td>1</td>\n",
       "      <td>-17.066666_35.191666.png</td>\n",
       "      <td>0</td>\n",
       "      <td>-17.066666_35.191666_0.png</td>\n",
       "      <td>2</td>\n",
       "    </tr>\n",
       "    <tr>\n",
       "      <th>3</th>\n",
       "      <td>-17.050000</td>\n",
       "      <td>35.199999</td>\n",
       "      <td>-17.09515</td>\n",
       "      <td>35.217213</td>\n",
       "      <td>0.0</td>\n",
       "      <td>2.039307</td>\n",
       "      <td>1</td>\n",
       "      <td>-17.05_35.199999.png</td>\n",
       "      <td>0</td>\n",
       "      <td>-17.05_35.199999_0.png</td>\n",
       "      <td>3</td>\n",
       "    </tr>\n",
       "    <tr>\n",
       "      <th>4</th>\n",
       "      <td>-17.100000</td>\n",
       "      <td>35.199999</td>\n",
       "      <td>-17.09515</td>\n",
       "      <td>35.217213</td>\n",
       "      <td>0.0</td>\n",
       "      <td>2.039307</td>\n",
       "      <td>1</td>\n",
       "      <td>-17.1_35.199999.png</td>\n",
       "      <td>0</td>\n",
       "      <td>-17.1_35.199999_0.png</td>\n",
       "      <td>4</td>\n",
       "    </tr>\n",
       "  </tbody>\n",
       "</table>\n",
       "</div>"
      ],
      "text/plain": [
       "      im_lat     im_lon  clust_lat  clust_lon  nightlight  consumption  \\\n",
       "0 -17.125000  35.174999  -17.09515  35.217213         0.0     2.039307   \n",
       "1 -17.133333  35.174999  -17.09515  35.217213         0.0     2.039307   \n",
       "2 -17.066666  35.191666  -17.09515  35.217213         0.0     2.039307   \n",
       "3 -17.050000  35.199999  -17.09515  35.217213         0.0     2.039307   \n",
       "4 -17.100000  35.199999  -17.09515  35.217213         0.0     2.039307   \n",
       "\n",
       "   nightlight_bin                    images  clust_num  \\\n",
       "0               1     -17.125_35.174999.png          0   \n",
       "1               1  -17.133333_35.174999.png          0   \n",
       "2               1  -17.066666_35.191666.png          0   \n",
       "3               1      -17.05_35.199999.png          0   \n",
       "4               1       -17.1_35.199999.png          0   \n",
       "\n",
       "               images_renamed  feat_index  \n",
       "0     -17.125_35.174999_0.png           0  \n",
       "1  -17.133333_35.174999_0.png           1  \n",
       "2  -17.066666_35.191666_0.png           2  \n",
       "3      -17.05_35.199999_0.png           3  \n",
       "4       -17.1_35.199999_0.png           4  "
      ]
     },
     "execution_count": 10,
     "metadata": {},
     "output_type": "execute_result"
    }
   ],
   "source": [
    "im_to_cons.head()"
   ]
  },
  {
   "cell_type": "code",
   "execution_count": 11,
   "metadata": {},
   "outputs": [],
   "source": [
    "group = im_to_cons.groupby(['clust_lat', 'clust_lon'])"
   ]
  },
  {
   "cell_type": "code",
   "execution_count": 12,
   "metadata": {},
   "outputs": [
    {
     "data": {
      "text/plain": [
       "778"
      ]
     },
     "execution_count": 12,
     "metadata": {},
     "output_type": "execute_result"
    }
   ],
   "source": [
    "num_clusts = len(group); num_clusts"
   ]
  },
  {
   "cell_type": "code",
   "execution_count": 13,
   "metadata": {},
   "outputs": [],
   "source": [
    "x = np.zeros((num_clusts, 4096))\n",
    "y = []"
   ]
  },
  {
   "cell_type": "code",
   "execution_count": 14,
   "metadata": {},
   "outputs": [],
   "source": [
    "# this goes through each cluster group and finds all images that are in the cluster\n",
    "# it aggregates the features for those images across the cluster\n",
    "for i, g in enumerate(group):\n",
    "    lat, long = g[0]\n",
    "    im_sub = im_to_cons[(im_to_cons['clust_lat'] == lat) & (im_to_cons['clust_lon'] == long)].reset_index(drop=True)\n",
    "    agg_feats = np.zeros((len(im_sub), 4096))\n",
    "    for j, d in im_sub.iterrows():\n",
    "        agg_feats[j,:] = feats[d.feat_index]\n",
    "    agg_feats = agg_feats.mean(axis=0) # averages the features across all images in the cluster\n",
    "    \n",
    "    x[i,:] = agg_feats\n",
    "    y.append(g[1]['consumption'].values[0])"
   ]
  },
  {
   "cell_type": "code",
   "execution_count": 15,
   "metadata": {},
   "outputs": [],
   "source": [
    "y = np.array(y)\n",
    "y_log = np.log(y) # try predicting consumption and log consumption"
   ]
  },
  {
   "cell_type": "code",
   "execution_count": 93,
   "metadata": {},
   "outputs": [],
   "source": [
    "# This is a bunch of code from the Jean et al Github that is modified to work with Python3 and our data\n",
    "\n",
    "import numpy as np\n",
    "import pandas as pd\n",
    "import random\n",
    "from scipy import stats\n",
    "from sklearn.decomposition import PCA\n",
    "from sklearn.preprocessing import StandardScaler\n",
    "from sklearn.model_selection import KFold\n",
    "import sklearn.linear_model as linear_model\n",
    "import matplotlib.pyplot as plt\n",
    "from matplotlib.collections import EllipseCollection\n",
    "import seaborn as sns\n",
    "\n",
    "\n",
    "def predict_consumption(\n",
    "    X, y, k=5, k_inner=5, points=10,\n",
    "        alpha_low=1, alpha_high=5, margin=0.25):\n",
    "    \"\"\"\n",
    "    Plots predicted consumption\n",
    "    \"\"\"\n",
    "    y_hat, r2 = run_cv(X, y, k, k_inner, points, alpha_low, alpha_high)\n",
    "    return X, y, y_hat, r2\n",
    "\n",
    "\n",
    "def run_cv(X, y, k, k_inner, points, alpha_low, alpha_high, randomize=False):\n",
    "    \"\"\"\n",
    "    Runs nested cross-validation to make predictions and compute r-squared.\n",
    "    \"\"\"\n",
    "    alphas = np.logspace(alpha_low, alpha_high, points)\n",
    "    r2s = np.zeros((k,))\n",
    "    y_hat = np.zeros_like(y)\n",
    "    kf = KFold(n_splits=k, shuffle=True)\n",
    "    fold = 0\n",
    "    for train_idx, test_idx in kf.split(X):\n",
    "        r2s, y_hat, fold = evaluate_fold(\n",
    "            X, y, train_idx, test_idx, k_inner, alphas, r2s, y_hat, fold,\n",
    "            randomize)\n",
    "    return y_hat, r2s.mean()\n",
    "\n",
    "\n",
    "def scale_features(X_train, X_test):\n",
    "    \"\"\"\n",
    "    Scales features using StandardScaler.\n",
    "    \"\"\"\n",
    "    X_scaler = StandardScaler(with_mean=True, with_std=False)\n",
    "    X_train = X_scaler.fit_transform(X_train)\n",
    "    X_test = X_scaler.transform(X_test)\n",
    "    return X_train, X_test\n",
    "\n",
    "\n",
    "def train_and_predict_ridge(alpha, X_train, y_train, X_test):\n",
    "    \"\"\"\n",
    "    Trains ridge model and predicts test set.\n",
    "    \"\"\"\n",
    "    ridge = linear_model.Ridge(alpha)\n",
    "    ridge.fit(X_train, y_train)\n",
    "    y_hat = ridge.predict(X_test)\n",
    "    return y_hat\n",
    "\n",
    "\n",
    "def predict_inner_test_fold(X, y, y_hat, train_idx, test_idx, alpha):\n",
    "    \"\"\"\n",
    "    Predicts inner test fold.\n",
    "    \"\"\"\n",
    "    X_train, X_test = X[train_idx], X[test_idx]\n",
    "    y_train, y_test = y[train_idx], y[test_idx]\n",
    "    X_train, X_test = scale_features(X_train, X_test)\n",
    "    y_hat[test_idx] = train_and_predict_ridge(alpha, X_train, y_train, X_test)\n",
    "    return y_hat\n",
    "\n",
    "\n",
    "def find_best_alpha(X, y, k_inner, alphas):\n",
    "    \"\"\"\n",
    "    Finds the best alpha in an inner CV loop.\n",
    "    \"\"\"\n",
    "    kf = KFold(n_splits=k_inner, shuffle=True)\n",
    "    best_alpha = 0\n",
    "    best_r2 = 0\n",
    "    for idx, alpha in enumerate(alphas):\n",
    "        y_hat = np.zeros_like(y)\n",
    "        for train_idx, test_idx in kf.split(X):\n",
    "            y_hat = predict_inner_test_fold(\n",
    "                X, y, y_hat, train_idx, test_idx, alpha)\n",
    "        r2 = stats.pearsonr(y, y_hat)[0] ** 2\n",
    "        if r2 > best_r2:\n",
    "            best_alpha = alpha\n",
    "            best_r2 = r2\n",
    "    print('best alpha', best_alpha)\n",
    "    return best_alpha\n",
    "\n",
    "\n",
    "def evaluate_fold(\n",
    "    X, y, train_idx, test_idx, k_inner, alphas, r2s, y_hat, fold,\n",
    "        randomize):\n",
    "    \"\"\"\n",
    "    Evaluates one fold of outer CV.\n",
    "    \"\"\"\n",
    "    X_train, X_test = X[train_idx], X[test_idx]\n",
    "    y_train, y_test = y[train_idx], y[test_idx]\n",
    "    if randomize:\n",
    "        random.shuffle(y_train)\n",
    "    best_alpha = find_best_alpha(X_train, y_train, k_inner, alphas)\n",
    "    X_train, X_test = scale_features(X_train, X_test)\n",
    "    y_test_hat = train_and_predict_ridge(best_alpha, X_train, y_train, X_test)\n",
    "    r2 = stats.pearsonr(y_test, y_test_hat)[0] ** 2\n",
    "    r2s[fold] = r2\n",
    "    y_hat[test_idx] = y_test_hat\n",
    "    return r2s, y_hat, fold + 1\n"
   ]
  },
  {
   "cell_type": "code",
   "execution_count": 94,
   "metadata": {},
   "outputs": [
    {
     "name": "stdout",
     "output_type": "stream",
     "text": [
      "best alpha 10.0\n",
      "best alpha 215.44346900318823\n",
      "best alpha 27.825594022071243\n",
      "best alpha 27.825594022071243\n",
      "best alpha 10.0\n"
     ]
    },
    {
     "data": {
      "text/plain": [
       "0.3916051563052739"
      ]
     },
     "execution_count": 94,
     "metadata": {},
     "output_type": "execute_result"
    }
   ],
   "source": [
    "_, _, _, r2 = predict_consumption(x, y_log)\n",
    "r2"
   ]
  },
  {
   "cell_type": "code",
   "execution_count": 95,
   "metadata": {},
   "outputs": [
    {
     "name": "stdout",
     "output_type": "stream",
     "text": [
      "best alpha 1668.100537200059\n",
      "best alpha 77.4263682681127\n",
      "best alpha 77.4263682681127\n",
      "best alpha 599.4842503189409\n",
      "best alpha 1668.100537200059\n"
     ]
    },
    {
     "data": {
      "text/plain": [
       "0.27074873340217587"
      ]
     },
     "execution_count": 95,
     "metadata": {},
     "output_type": "execute_result"
    }
   ],
   "source": [
    "_, _, _, r2 = predict_consumption(x, y)\n",
    "r2"
   ]
  },
  {
   "cell_type": "markdown",
   "metadata": {},
   "source": [
    "Quick and dirty hand-testing method"
   ]
  },
  {
   "cell_type": "code",
   "execution_count": 102,
   "metadata": {},
   "outputs": [],
   "source": [
    "n_train = int(0.7*(len(x_hat))) # let's use 70% of the data for training\n",
    "inds = np.arange(len(x_hat))\n",
    "train_ind = np.random.choice(inds, n_train, replace=False)\n",
    "valid_ind = np.delete(inds, train_ind)\n",
    "\n",
    "train_x = x[train_ind]\n",
    "valid_x = x[valid_ind]\n",
    "\n",
    "train_y = y_log[train_ind]\n",
    "valid_y = y_log[valid_ind]\n",
    "\n",
    "ss = StandardScaler() # standardize features\n",
    "train_x = ss.fit_transform(train_x)\n",
    "valid_x = ss.transform(valid_x)"
   ]
  },
  {
   "cell_type": "code",
   "execution_count": 103,
   "metadata": {},
   "outputs": [
    {
     "data": {
      "text/plain": [
       "(1.140424427381631, 1.1554331757010523)"
      ]
     },
     "execution_count": 103,
     "metadata": {},
     "output_type": "execute_result"
    }
   ],
   "source": [
    "train_y.mean(), valid_y.mean() # let's make sure we don't have vastly different distributions of train/test"
   ]
  },
  {
   "cell_type": "code",
   "execution_count": 104,
   "metadata": {},
   "outputs": [
    {
     "data": {
      "text/plain": [
       "0.8963726397268635"
      ]
     },
     "execution_count": 104,
     "metadata": {},
     "output_type": "execute_result"
    }
   ],
   "source": [
    "ridge = linear_model.Ridge()\n",
    "ridge.fit(train_x, train_y)\n",
    "ridge.score(train_x, train_y)"
   ]
  },
  {
   "cell_type": "code",
   "execution_count": 105,
   "metadata": {},
   "outputs": [
    {
     "data": {
      "text/plain": [
       "-0.087926825279385"
      ]
     },
     "execution_count": 105,
     "metadata": {},
     "output_type": "execute_result"
    }
   ],
   "source": [
    "# ??? what happened ???\n",
    "# well, ridge regression is heavily affected by alpha (regularization) value\n",
    "# Jean et. al. code finds a good alpha, which we do not do here\n",
    "# if we use theirs, our ridge score will go up\n",
    "ridge.score(valid_x, valid_y)"
   ]
  },
  {
   "cell_type": "code",
   "execution_count": 106,
   "metadata": {},
   "outputs": [
    {
     "data": {
      "text/plain": [
       "1.0"
      ]
     },
     "execution_count": 106,
     "metadata": {},
     "output_type": "execute_result"
    }
   ],
   "source": [
    "ridge.alpha"
   ]
  },
  {
   "cell_type": "code",
   "execution_count": 107,
   "metadata": {},
   "outputs": [
    {
     "data": {
      "text/plain": [
       "0.6340422127082759"
      ]
     },
     "execution_count": 107,
     "metadata": {},
     "output_type": "execute_result"
    }
   ],
   "source": [
    "ridge2 = linear_model.Ridge(alpha=100) # the best alphas printed suggest using a high alphas\n",
    "ridge2.fit(train_x, train_y)\n",
    "ridge2.score(train_x, train_y)"
   ]
  },
  {
   "cell_type": "code",
   "execution_count": 108,
   "metadata": {},
   "outputs": [
    {
     "data": {
      "text/plain": [
       "0.38644934159488"
      ]
     },
     "execution_count": 108,
     "metadata": {},
     "output_type": "execute_result"
    }
   ],
   "source": [
    "# this is closer to the r^2 using the paper's functions, as seen above\n",
    "# they did other things like CV and identifying best alphas\n",
    "# this was just meant to show a quick and dirty way of testing\n",
    "ridge2.score(valid_x, valid_y)"
   ]
  },
  {
   "cell_type": "markdown",
   "metadata": {},
   "source": [
    "Plots"
   ]
  },
  {
   "cell_type": "code",
   "execution_count": 109,
   "metadata": {},
   "outputs": [],
   "source": [
    "import matplotlib.pyplot as plt"
   ]
  },
  {
   "cell_type": "code",
   "execution_count": 110,
   "metadata": {},
   "outputs": [],
   "source": [
    "preds = ridge2.predict(valid_x)"
   ]
  },
  {
   "cell_type": "code",
   "execution_count": 113,
   "metadata": {},
   "outputs": [
    {
     "data": {
      "text/plain": [
       "Text(0.5, 1.0, 'Results')"
      ]
     },
     "execution_count": 113,
     "metadata": {},
     "output_type": "execute_result"
    },
    {
     "data": {
      "image/png": "[encoded data removed]",
      "text/plain": [
       "<Figure size 576x360 with 1 Axes>"
      ]
     },
     "metadata": {
      "needs_background": "light"
     },
     "output_type": "display_data"
    }
   ],
   "source": [
    "plt.figure(figsize=(8,5))\n",
    "plt.scatter(valid_y, preds, alpha=0.6)\n",
    "plt.plot(np.unique(valid_y), np.poly1d(np.polyfit(valid_y, preds, 1))(np.unique(valid_y)), color='g')\n",
    "plt.text(2.4, 1.5, 'r^2=0.4', size=12)\n",
    "plt.xlabel('Actual Log Consumption($/day)')\n",
    "plt.ylabel('Predicted Log Consumption($/day)')\n",
    "plt.title('Results')"
   ]
  },
  {
   "cell_type": "code",
   "execution_count": null,
   "metadata": {},
   "outputs": [],
   "source": []
  },
  {
   "cell_type": "code",
   "execution_count": null,
   "metadata": {},
   "outputs": [],
   "source": []
  }
 ],
 "metadata": {
  "kernelspec": {
   "display_name": "Python 3",
   "language": "python",
   "name": "python3"
  },
  "language_info": {
   "codemirror_mode": {
    "name": "ipython",
    "version": 3
   },
   "file_extension": ".py",
   "mimetype": "text/x-python",
   "name": "python",
   "nbconvert_exporter": "python",
   "pygments_lexer": "ipython3",
   "version": "3.7.4"
  }
 },
 "nbformat": 4,
 "nbformat_minor": 2
}
