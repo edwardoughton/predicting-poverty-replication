{
 "cells": [
  {
   "cell_type": "markdown",
   "metadata": {},
   "source": [
    "Uses the files created using the scripts in `data` and sets up the whole training script."
   ]
  },
  {
   "cell_type": "code",
   "execution_count": 1,
   "metadata": {},
   "outputs": [],
   "source": [
    "import pandas as pd\n",
    "import numpy as np\n",
    "import os\n",
    "\n",
    "df_mw_download = pd.read_csv('data/mw_2016_download.csv')\n",
    "df_mw_download_info = pd.read_csv('data/mw_2016_download_info.csv')\n",
    "df_mw_guide = pd.read_csv('data/mw_2016_guide.csv')"
   ]
  },
  {
   "cell_type": "code",
   "execution_count": null,
   "metadata": {},
   "outputs": [],
   "source": [
    "if len(df_mw_download) != len(df_mw_download_info):\n",
    "    # this means the script broke and you restarted it\n",
    "    # this is how I named images so it should work...\n",
    "    df_mw_download['images'] = df_mw_download.apply(lambda x: str(x.im_lat) + '_' + str(x.im_lon) + '.png', axis=1)\n",
    "else:\n",
    "    df_mw_download = df_mw_download_info"
   ]
  },
  {
   "cell_type": "code",
   "execution_count": 2,
   "metadata": {},
   "outputs": [
    {
     "data": {
      "text/plain": [
       "((23373, 8), (43359, 7))"
      ]
     },
     "execution_count": 2,
     "metadata": {},
     "output_type": "execute_result"
    }
   ],
   "source": [
    "# we didn't download duplicate images which explains the difference\n",
    "df_mw_download.shape, df_mw_guide.shape"
   ]
  },
  {
   "cell_type": "code",
   "execution_count": 3,
   "metadata": {
    "scrolled": false
   },
   "outputs": [
    {
     "data": {
      "text/plain": [
       "780"
      ]
     },
     "execution_count": 3,
     "metadata": {},
     "output_type": "execute_result"
    }
   ],
   "source": [
    "len(df_mw_guide.groupby(['clust_lat', 'clust_lon'])) # number of clusters"
   ]
  },
  {
   "cell_type": "code",
   "execution_count": 4,
   "metadata": {},
   "outputs": [],
   "source": [
    "# merges the images downloaded with the original dataframe\n",
    "df_sub = df_mw_download[['im_lat', 'im_lon', 'images']]\n",
    "df_mw = pd.merge(left=df_mw_guide, right=df_sub, on=['im_lat', 'im_lon'])"
   ]
  },
  {
   "cell_type": "code",
   "execution_count": 5,
   "metadata": {},
   "outputs": [
    {
     "data": {
      "text/html": [
       "<div>\n",
       "<style scoped>\n",
       "    .dataframe tbody tr th:only-of-type {\n",
       "        vertical-align: middle;\n",
       "    }\n",
       "\n",
       "    .dataframe tbody tr th {\n",
       "        vertical-align: top;\n",
       "    }\n",
       "\n",
       "    .dataframe thead th {\n",
       "        text-align: right;\n",
       "    }\n",
       "</style>\n",
       "<table border=\"1\" class=\"dataframe\">\n",
       "  <thead>\n",
       "    <tr style=\"text-align: right;\">\n",
       "      <th></th>\n",
       "      <th>im_lat</th>\n",
       "      <th>im_lon</th>\n",
       "      <th>clust_lat</th>\n",
       "      <th>clust_lon</th>\n",
       "      <th>nightlight</th>\n",
       "      <th>consumption</th>\n",
       "      <th>nightlight_bin</th>\n",
       "      <th>images</th>\n",
       "    </tr>\n",
       "  </thead>\n",
       "  <tbody>\n",
       "    <tr>\n",
       "      <th>0</th>\n",
       "      <td>-17.066666</td>\n",
       "      <td>35.174999</td>\n",
       "      <td>-17.09515</td>\n",
       "      <td>35.217213</td>\n",
       "      <td>0.0</td>\n",
       "      <td>2.039307</td>\n",
       "      <td>1</td>\n",
       "      <td>-17.066666_35.174999.png</td>\n",
       "    </tr>\n",
       "    <tr>\n",
       "      <th>1</th>\n",
       "      <td>-17.116666</td>\n",
       "      <td>35.174999</td>\n",
       "      <td>-17.09515</td>\n",
       "      <td>35.217213</td>\n",
       "      <td>0.0</td>\n",
       "      <td>2.039307</td>\n",
       "      <td>1</td>\n",
       "      <td>-17.116666_35.174999.png</td>\n",
       "    </tr>\n",
       "    <tr>\n",
       "      <th>2</th>\n",
       "      <td>-17.100000</td>\n",
       "      <td>35.183332</td>\n",
       "      <td>-17.09515</td>\n",
       "      <td>35.217213</td>\n",
       "      <td>0.0</td>\n",
       "      <td>2.039307</td>\n",
       "      <td>1</td>\n",
       "      <td>-17.1_35.183332.png</td>\n",
       "    </tr>\n",
       "    <tr>\n",
       "      <th>3</th>\n",
       "      <td>-17.125000</td>\n",
       "      <td>35.199999</td>\n",
       "      <td>-17.09515</td>\n",
       "      <td>35.217213</td>\n",
       "      <td>0.0</td>\n",
       "      <td>2.039307</td>\n",
       "      <td>1</td>\n",
       "      <td>-17.125_35.199999.png</td>\n",
       "    </tr>\n",
       "    <tr>\n",
       "      <th>4</th>\n",
       "      <td>-17.133333</td>\n",
       "      <td>35.199999</td>\n",
       "      <td>-17.09515</td>\n",
       "      <td>35.217213</td>\n",
       "      <td>0.0</td>\n",
       "      <td>2.039307</td>\n",
       "      <td>1</td>\n",
       "      <td>-17.133333_35.199999.png</td>\n",
       "    </tr>\n",
       "  </tbody>\n",
       "</table>\n",
       "</div>"
      ],
      "text/plain": [
       "      im_lat     im_lon  clust_lat  clust_lon  nightlight  consumption  \\\n",
       "0 -17.066666  35.174999  -17.09515  35.217213         0.0     2.039307   \n",
       "1 -17.116666  35.174999  -17.09515  35.217213         0.0     2.039307   \n",
       "2 -17.100000  35.183332  -17.09515  35.217213         0.0     2.039307   \n",
       "3 -17.125000  35.199999  -17.09515  35.217213         0.0     2.039307   \n",
       "4 -17.133333  35.199999  -17.09515  35.217213         0.0     2.039307   \n",
       "\n",
       "   nightlight_bin                    images  \n",
       "0               1  -17.066666_35.174999.png  \n",
       "1               1  -17.116666_35.174999.png  \n",
       "2               1       -17.1_35.183332.png  \n",
       "3               1     -17.125_35.199999.png  \n",
       "4               1  -17.133333_35.199999.png  "
      ]
     },
     "execution_count": 5,
     "metadata": {},
     "output_type": "execute_result"
    }
   ],
   "source": [
    "df_mw.head()"
   ]
  },
  {
   "cell_type": "code",
   "execution_count": 6,
   "metadata": {},
   "outputs": [
    {
     "data": {
      "text/plain": [
       "((43359, 7), (43359, 8))"
      ]
     },
     "execution_count": 6,
     "metadata": {},
     "output_type": "execute_result"
    }
   ],
   "source": [
    "# I didn't download all the images and also I got rid of some image repeats, hence the difference\n",
    "df_mw_guide.shape, df_mw.shape"
   ]
  },
  {
   "cell_type": "code",
   "execution_count": 7,
   "metadata": {},
   "outputs": [],
   "source": [
    "# adds a \"cluster number\" to the dataframe\n",
    "clust_group = df_mw.groupby(['clust_lat', 'clust_lon'])\n",
    "clust_group = clust_group.first().reset_index()[['clust_lat', 'clust_lon']]\n",
    "clust_numbers = np.arange(len(clust_group))\n",
    "clust_group['clust_num'] = clust_numbers"
   ]
  },
  {
   "cell_type": "code",
   "execution_count": 8,
   "metadata": {},
   "outputs": [
    {
     "data": {
      "text/html": [
       "<div>\n",
       "<style scoped>\n",
       "    .dataframe tbody tr th:only-of-type {\n",
       "        vertical-align: middle;\n",
       "    }\n",
       "\n",
       "    .dataframe tbody tr th {\n",
       "        vertical-align: top;\n",
       "    }\n",
       "\n",
       "    .dataframe thead th {\n",
       "        text-align: right;\n",
       "    }\n",
       "</style>\n",
       "<table border=\"1\" class=\"dataframe\">\n",
       "  <thead>\n",
       "    <tr style=\"text-align: right;\">\n",
       "      <th></th>\n",
       "      <th>clust_lat</th>\n",
       "      <th>clust_lon</th>\n",
       "      <th>clust_num</th>\n",
       "    </tr>\n",
       "  </thead>\n",
       "  <tbody>\n",
       "    <tr>\n",
       "      <th>0</th>\n",
       "      <td>-17.095150</td>\n",
       "      <td>35.217213</td>\n",
       "      <td>0</td>\n",
       "    </tr>\n",
       "    <tr>\n",
       "      <th>1</th>\n",
       "      <td>-17.092351</td>\n",
       "      <td>35.114643</td>\n",
       "      <td>1</td>\n",
       "    </tr>\n",
       "    <tr>\n",
       "      <th>2</th>\n",
       "      <td>-17.016698</td>\n",
       "      <td>35.079629</td>\n",
       "      <td>2</td>\n",
       "    </tr>\n",
       "    <tr>\n",
       "      <th>3</th>\n",
       "      <td>-16.977243</td>\n",
       "      <td>35.205706</td>\n",
       "      <td>3</td>\n",
       "    </tr>\n",
       "    <tr>\n",
       "      <th>4</th>\n",
       "      <td>-16.956385</td>\n",
       "      <td>35.168967</td>\n",
       "      <td>4</td>\n",
       "    </tr>\n",
       "  </tbody>\n",
       "</table>\n",
       "</div>"
      ],
      "text/plain": [
       "   clust_lat  clust_lon  clust_num\n",
       "0 -17.095150  35.217213          0\n",
       "1 -17.092351  35.114643          1\n",
       "2 -17.016698  35.079629          2\n",
       "3 -16.977243  35.205706          3\n",
       "4 -16.956385  35.168967          4"
      ]
     },
     "execution_count": 8,
     "metadata": {},
     "output_type": "execute_result"
    }
   ],
   "source": [
    "clust_group.head()"
   ]
  },
  {
   "cell_type": "code",
   "execution_count": 9,
   "metadata": {},
   "outputs": [
    {
     "data": {
      "text/html": [
       "<div>\n",
       "<style scoped>\n",
       "    .dataframe tbody tr th:only-of-type {\n",
       "        vertical-align: middle;\n",
       "    }\n",
       "\n",
       "    .dataframe tbody tr th {\n",
       "        vertical-align: top;\n",
       "    }\n",
       "\n",
       "    .dataframe thead th {\n",
       "        text-align: right;\n",
       "    }\n",
       "</style>\n",
       "<table border=\"1\" class=\"dataframe\">\n",
       "  <thead>\n",
       "    <tr style=\"text-align: right;\">\n",
       "      <th></th>\n",
       "      <th>im_lat</th>\n",
       "      <th>im_lon</th>\n",
       "      <th>clust_lat</th>\n",
       "      <th>clust_lon</th>\n",
       "      <th>nightlight</th>\n",
       "      <th>consumption</th>\n",
       "      <th>nightlight_bin</th>\n",
       "      <th>images</th>\n",
       "      <th>clust_num</th>\n",
       "    </tr>\n",
       "  </thead>\n",
       "  <tbody>\n",
       "    <tr>\n",
       "      <th>0</th>\n",
       "      <td>-17.066666</td>\n",
       "      <td>35.174999</td>\n",
       "      <td>-17.09515</td>\n",
       "      <td>35.217213</td>\n",
       "      <td>0.0</td>\n",
       "      <td>2.039307</td>\n",
       "      <td>1</td>\n",
       "      <td>-17.066666_35.174999.png</td>\n",
       "      <td>0</td>\n",
       "    </tr>\n",
       "    <tr>\n",
       "      <th>1</th>\n",
       "      <td>-17.116666</td>\n",
       "      <td>35.174999</td>\n",
       "      <td>-17.09515</td>\n",
       "      <td>35.217213</td>\n",
       "      <td>0.0</td>\n",
       "      <td>2.039307</td>\n",
       "      <td>1</td>\n",
       "      <td>-17.116666_35.174999.png</td>\n",
       "      <td>0</td>\n",
       "    </tr>\n",
       "    <tr>\n",
       "      <th>2</th>\n",
       "      <td>-17.100000</td>\n",
       "      <td>35.183332</td>\n",
       "      <td>-17.09515</td>\n",
       "      <td>35.217213</td>\n",
       "      <td>0.0</td>\n",
       "      <td>2.039307</td>\n",
       "      <td>1</td>\n",
       "      <td>-17.1_35.183332.png</td>\n",
       "      <td>0</td>\n",
       "    </tr>\n",
       "    <tr>\n",
       "      <th>3</th>\n",
       "      <td>-17.125000</td>\n",
       "      <td>35.199999</td>\n",
       "      <td>-17.09515</td>\n",
       "      <td>35.217213</td>\n",
       "      <td>0.0</td>\n",
       "      <td>2.039307</td>\n",
       "      <td>1</td>\n",
       "      <td>-17.125_35.199999.png</td>\n",
       "      <td>0</td>\n",
       "    </tr>\n",
       "    <tr>\n",
       "      <th>4</th>\n",
       "      <td>-17.133333</td>\n",
       "      <td>35.199999</td>\n",
       "      <td>-17.09515</td>\n",
       "      <td>35.217213</td>\n",
       "      <td>0.0</td>\n",
       "      <td>2.039307</td>\n",
       "      <td>1</td>\n",
       "      <td>-17.133333_35.199999.png</td>\n",
       "      <td>0</td>\n",
       "    </tr>\n",
       "  </tbody>\n",
       "</table>\n",
       "</div>"
      ],
      "text/plain": [
       "      im_lat     im_lon  clust_lat  clust_lon  nightlight  consumption  \\\n",
       "0 -17.066666  35.174999  -17.09515  35.217213         0.0     2.039307   \n",
       "1 -17.116666  35.174999  -17.09515  35.217213         0.0     2.039307   \n",
       "2 -17.100000  35.183332  -17.09515  35.217213         0.0     2.039307   \n",
       "3 -17.125000  35.199999  -17.09515  35.217213         0.0     2.039307   \n",
       "4 -17.133333  35.199999  -17.09515  35.217213         0.0     2.039307   \n",
       "\n",
       "   nightlight_bin                    images  clust_num  \n",
       "0               1  -17.066666_35.174999.png          0  \n",
       "1               1  -17.116666_35.174999.png          0  \n",
       "2               1       -17.1_35.183332.png          0  \n",
       "3               1     -17.125_35.199999.png          0  \n",
       "4               1  -17.133333_35.199999.png          0  "
      ]
     },
     "execution_count": 9,
     "metadata": {},
     "output_type": "execute_result"
    }
   ],
   "source": [
    "df_mw = pd.merge(df_mw, clust_group, on=['clust_lat', 'clust_lon'])\n",
    "df_mw.head()"
   ]
  },
  {
   "cell_type": "code",
   "execution_count": 10,
   "metadata": {},
   "outputs": [
    {
     "data": {
      "text/plain": [
       "(43359, 9)"
      ]
     },
     "execution_count": 10,
     "metadata": {},
     "output_type": "execute_result"
    }
   ],
   "source": [
    "df_mw.shape"
   ]
  },
  {
   "cell_type": "markdown",
   "metadata": {},
   "source": [
    "I'm gonna add an _ to the images to show which cluster they come from"
   ]
  },
  {
   "cell_type": "code",
   "execution_count": 11,
   "metadata": {},
   "outputs": [],
   "source": [
    "df_mw['images_renamed'] = df_mw.apply(lambda x: x.images[:-4] + '_' + str(x.clust_num) + '.png', axis=1)"
   ]
  },
  {
   "cell_type": "code",
   "execution_count": 12,
   "metadata": {},
   "outputs": [
    {
     "data": {
      "text/html": [
       "<div>\n",
       "<style scoped>\n",
       "    .dataframe tbody tr th:only-of-type {\n",
       "        vertical-align: middle;\n",
       "    }\n",
       "\n",
       "    .dataframe tbody tr th {\n",
       "        vertical-align: top;\n",
       "    }\n",
       "\n",
       "    .dataframe thead th {\n",
       "        text-align: right;\n",
       "    }\n",
       "</style>\n",
       "<table border=\"1\" class=\"dataframe\">\n",
       "  <thead>\n",
       "    <tr style=\"text-align: right;\">\n",
       "      <th></th>\n",
       "      <th>im_lat</th>\n",
       "      <th>im_lon</th>\n",
       "      <th>clust_lat</th>\n",
       "      <th>clust_lon</th>\n",
       "      <th>nightlight</th>\n",
       "      <th>consumption</th>\n",
       "      <th>nightlight_bin</th>\n",
       "      <th>images</th>\n",
       "      <th>clust_num</th>\n",
       "      <th>images_renamed</th>\n",
       "    </tr>\n",
       "  </thead>\n",
       "  <tbody>\n",
       "    <tr>\n",
       "      <th>0</th>\n",
       "      <td>-17.066666</td>\n",
       "      <td>35.174999</td>\n",
       "      <td>-17.09515</td>\n",
       "      <td>35.217213</td>\n",
       "      <td>0.0</td>\n",
       "      <td>2.039307</td>\n",
       "      <td>1</td>\n",
       "      <td>-17.066666_35.174999.png</td>\n",
       "      <td>0</td>\n",
       "      <td>-17.066666_35.174999_0.png</td>\n",
       "    </tr>\n",
       "    <tr>\n",
       "      <th>1</th>\n",
       "      <td>-17.116666</td>\n",
       "      <td>35.174999</td>\n",
       "      <td>-17.09515</td>\n",
       "      <td>35.217213</td>\n",
       "      <td>0.0</td>\n",
       "      <td>2.039307</td>\n",
       "      <td>1</td>\n",
       "      <td>-17.116666_35.174999.png</td>\n",
       "      <td>0</td>\n",
       "      <td>-17.116666_35.174999_0.png</td>\n",
       "    </tr>\n",
       "    <tr>\n",
       "      <th>2</th>\n",
       "      <td>-17.100000</td>\n",
       "      <td>35.183332</td>\n",
       "      <td>-17.09515</td>\n",
       "      <td>35.217213</td>\n",
       "      <td>0.0</td>\n",
       "      <td>2.039307</td>\n",
       "      <td>1</td>\n",
       "      <td>-17.1_35.183332.png</td>\n",
       "      <td>0</td>\n",
       "      <td>-17.1_35.183332_0.png</td>\n",
       "    </tr>\n",
       "    <tr>\n",
       "      <th>3</th>\n",
       "      <td>-17.125000</td>\n",
       "      <td>35.199999</td>\n",
       "      <td>-17.09515</td>\n",
       "      <td>35.217213</td>\n",
       "      <td>0.0</td>\n",
       "      <td>2.039307</td>\n",
       "      <td>1</td>\n",
       "      <td>-17.125_35.199999.png</td>\n",
       "      <td>0</td>\n",
       "      <td>-17.125_35.199999_0.png</td>\n",
       "    </tr>\n",
       "    <tr>\n",
       "      <th>4</th>\n",
       "      <td>-17.133333</td>\n",
       "      <td>35.199999</td>\n",
       "      <td>-17.09515</td>\n",
       "      <td>35.217213</td>\n",
       "      <td>0.0</td>\n",
       "      <td>2.039307</td>\n",
       "      <td>1</td>\n",
       "      <td>-17.133333_35.199999.png</td>\n",
       "      <td>0</td>\n",
       "      <td>-17.133333_35.199999_0.png</td>\n",
       "    </tr>\n",
       "  </tbody>\n",
       "</table>\n",
       "</div>"
      ],
      "text/plain": [
       "      im_lat     im_lon  clust_lat  clust_lon  nightlight  consumption  \\\n",
       "0 -17.066666  35.174999  -17.09515  35.217213         0.0     2.039307   \n",
       "1 -17.116666  35.174999  -17.09515  35.217213         0.0     2.039307   \n",
       "2 -17.100000  35.183332  -17.09515  35.217213         0.0     2.039307   \n",
       "3 -17.125000  35.199999  -17.09515  35.217213         0.0     2.039307   \n",
       "4 -17.133333  35.199999  -17.09515  35.217213         0.0     2.039307   \n",
       "\n",
       "   nightlight_bin                    images  clust_num  \\\n",
       "0               1  -17.066666_35.174999.png          0   \n",
       "1               1  -17.116666_35.174999.png          0   \n",
       "2               1       -17.1_35.183332.png          0   \n",
       "3               1     -17.125_35.199999.png          0   \n",
       "4               1  -17.133333_35.199999.png          0   \n",
       "\n",
       "               images_renamed  \n",
       "0  -17.066666_35.174999_0.png  \n",
       "1  -17.116666_35.174999_0.png  \n",
       "2       -17.1_35.183332_0.png  \n",
       "3     -17.125_35.199999_0.png  \n",
       "4  -17.133333_35.199999_0.png  "
      ]
     },
     "execution_count": 12,
     "metadata": {},
     "output_type": "execute_result"
    }
   ],
   "source": [
    "df_mw.head()"
   ]
  },
  {
   "cell_type": "code",
   "execution_count": 13,
   "metadata": {},
   "outputs": [],
   "source": [
    "# you can add other countries here under the structure images/<COUNTRY>/\n",
    "os.makedirs('../images/ims_mw/ims')"
   ]
  },
  {
   "cell_type": "code",
   "execution_count": 14,
   "metadata": {},
   "outputs": [],
   "source": [
    "import shutil"
   ]
  },
  {
   "cell_type": "code",
   "execution_count": 15,
   "metadata": {},
   "outputs": [],
   "source": [
    "# this will copy images into a folder called ims\n",
    "# this folder is helpful because the original folder has all unique images\n",
    "# now, we need to duplicate those images and distinguish them by their new name (as made previously)\n",
    "def create_im_renamed(x):\n",
    "    shutil.copy('data/ims_malawi_2016/{}'.format(x.images), '../images/ims_mw/ims/{}'.format(x.images_renamed))"
   ]
  },
  {
   "cell_type": "code",
   "execution_count": 16,
   "metadata": {},
   "outputs": [
    {
     "data": {
      "text/plain": [
       "0        None\n",
       "1        None\n",
       "2        None\n",
       "3        None\n",
       "4        None\n",
       "5        None\n",
       "6        None\n",
       "7        None\n",
       "8        None\n",
       "9        None\n",
       "10       None\n",
       "11       None\n",
       "12       None\n",
       "13       None\n",
       "14       None\n",
       "15       None\n",
       "16       None\n",
       "17       None\n",
       "18       None\n",
       "19       None\n",
       "20       None\n",
       "21       None\n",
       "22       None\n",
       "23       None\n",
       "24       None\n",
       "25       None\n",
       "26       None\n",
       "27       None\n",
       "28       None\n",
       "29       None\n",
       "         ... \n",
       "43329    None\n",
       "43330    None\n",
       "43331    None\n",
       "43332    None\n",
       "43333    None\n",
       "43334    None\n",
       "43335    None\n",
       "43336    None\n",
       "43337    None\n",
       "43338    None\n",
       "43339    None\n",
       "43340    None\n",
       "43341    None\n",
       "43342    None\n",
       "43343    None\n",
       "43344    None\n",
       "43345    None\n",
       "43346    None\n",
       "43347    None\n",
       "43348    None\n",
       "43349    None\n",
       "43350    None\n",
       "43351    None\n",
       "43352    None\n",
       "43353    None\n",
       "43354    None\n",
       "43355    None\n",
       "43356    None\n",
       "43357    None\n",
       "43358    None\n",
       "Length: 43359, dtype: object"
      ]
     },
     "execution_count": 16,
     "metadata": {},
     "output_type": "execute_result"
    }
   ],
   "source": [
    "df_mw.apply(create_im_renamed, axis=1)"
   ]
  },
  {
   "cell_type": "code",
   "execution_count": 17,
   "metadata": {},
   "outputs": [
    {
     "data": {
      "text/html": [
       "<div>\n",
       "<style scoped>\n",
       "    .dataframe tbody tr th:only-of-type {\n",
       "        vertical-align: middle;\n",
       "    }\n",
       "\n",
       "    .dataframe tbody tr th {\n",
       "        vertical-align: top;\n",
       "    }\n",
       "\n",
       "    .dataframe thead th {\n",
       "        text-align: right;\n",
       "    }\n",
       "</style>\n",
       "<table border=\"1\" class=\"dataframe\">\n",
       "  <thead>\n",
       "    <tr style=\"text-align: right;\">\n",
       "      <th></th>\n",
       "      <th>im_lat</th>\n",
       "      <th>im_lon</th>\n",
       "      <th>clust_lat</th>\n",
       "      <th>clust_lon</th>\n",
       "      <th>nightlight</th>\n",
       "      <th>consumption</th>\n",
       "      <th>nightlight_bin</th>\n",
       "      <th>images</th>\n",
       "      <th>clust_num</th>\n",
       "      <th>images_renamed</th>\n",
       "    </tr>\n",
       "  </thead>\n",
       "  <tbody>\n",
       "    <tr>\n",
       "      <th>0</th>\n",
       "      <td>-17.125000</td>\n",
       "      <td>35.174999</td>\n",
       "      <td>-17.09515</td>\n",
       "      <td>35.217213</td>\n",
       "      <td>0.0</td>\n",
       "      <td>2.039307</td>\n",
       "      <td>1</td>\n",
       "      <td>-17.125_35.174999.png</td>\n",
       "      <td>0</td>\n",
       "      <td>-17.125_35.174999_0.png</td>\n",
       "    </tr>\n",
       "    <tr>\n",
       "      <th>1</th>\n",
       "      <td>-17.133333</td>\n",
       "      <td>35.174999</td>\n",
       "      <td>-17.09515</td>\n",
       "      <td>35.217213</td>\n",
       "      <td>0.0</td>\n",
       "      <td>2.039307</td>\n",
       "      <td>1</td>\n",
       "      <td>-17.133333_35.174999.png</td>\n",
       "      <td>0</td>\n",
       "      <td>-17.133333_35.174999_0.png</td>\n",
       "    </tr>\n",
       "    <tr>\n",
       "      <th>2</th>\n",
       "      <td>-17.066666</td>\n",
       "      <td>35.191666</td>\n",
       "      <td>-17.09515</td>\n",
       "      <td>35.217213</td>\n",
       "      <td>0.0</td>\n",
       "      <td>2.039307</td>\n",
       "      <td>1</td>\n",
       "      <td>-17.066666_35.191666.png</td>\n",
       "      <td>0</td>\n",
       "      <td>-17.066666_35.191666_0.png</td>\n",
       "    </tr>\n",
       "    <tr>\n",
       "      <th>3</th>\n",
       "      <td>-17.050000</td>\n",
       "      <td>35.199999</td>\n",
       "      <td>-17.09515</td>\n",
       "      <td>35.217213</td>\n",
       "      <td>0.0</td>\n",
       "      <td>2.039307</td>\n",
       "      <td>1</td>\n",
       "      <td>-17.05_35.199999.png</td>\n",
       "      <td>0</td>\n",
       "      <td>-17.05_35.199999_0.png</td>\n",
       "    </tr>\n",
       "    <tr>\n",
       "      <th>4</th>\n",
       "      <td>-17.100000</td>\n",
       "      <td>35.199999</td>\n",
       "      <td>-17.09515</td>\n",
       "      <td>35.217213</td>\n",
       "      <td>0.0</td>\n",
       "      <td>2.039307</td>\n",
       "      <td>1</td>\n",
       "      <td>-17.1_35.199999.png</td>\n",
       "      <td>0</td>\n",
       "      <td>-17.1_35.199999_0.png</td>\n",
       "    </tr>\n",
       "  </tbody>\n",
       "</table>\n",
       "</div>"
      ],
      "text/plain": [
       "      im_lat     im_lon  clust_lat  clust_lon  nightlight  consumption  \\\n",
       "0 -17.125000  35.174999  -17.09515  35.217213         0.0     2.039307   \n",
       "1 -17.133333  35.174999  -17.09515  35.217213         0.0     2.039307   \n",
       "2 -17.066666  35.191666  -17.09515  35.217213         0.0     2.039307   \n",
       "3 -17.050000  35.199999  -17.09515  35.217213         0.0     2.039307   \n",
       "4 -17.100000  35.199999  -17.09515  35.217213         0.0     2.039307   \n",
       "\n",
       "   nightlight_bin                    images  clust_num  \\\n",
       "0               1     -17.125_35.174999.png          0   \n",
       "1               1  -17.133333_35.174999.png          0   \n",
       "2               1  -17.066666_35.191666.png          0   \n",
       "3               1      -17.05_35.199999.png          0   \n",
       "4               1       -17.1_35.199999.png          0   \n",
       "\n",
       "               images_renamed  \n",
       "0     -17.125_35.174999_0.png  \n",
       "1  -17.133333_35.174999_0.png  \n",
       "2  -17.066666_35.191666_0.png  \n",
       "3      -17.05_35.199999_0.png  \n",
       "4       -17.1_35.199999_0.png  "
      ]
     },
     "execution_count": 17,
     "metadata": {},
     "output_type": "execute_result"
    }
   ],
   "source": [
    "df_mw.head()"
   ]
  },
  {
   "cell_type": "code",
   "execution_count": 18,
   "metadata": {},
   "outputs": [],
   "source": [
    "df_mw.to_csv('mw_full_guide.csv', index=False)"
   ]
  },
  {
   "cell_type": "markdown",
   "metadata": {},
   "source": [
    "Create train/valid folders\n",
    "\n",
    "The model will use these directly."
   ]
  },
  {
   "cell_type": "code",
   "execution_count": 19,
   "metadata": {},
   "outputs": [],
   "source": [
    "import os, shutil\n",
    "import numpy as np"
   ]
  },
  {
   "cell_type": "code",
   "execution_count": 20,
   "metadata": {},
   "outputs": [
    {
     "data": {
      "text/plain": [
       "34687"
      ]
     },
     "execution_count": 20,
     "metadata": {},
     "output_type": "execute_result"
    }
   ],
   "source": [
    "pic_list = df_mw['images'].values.tolist()\n",
    "to_pick = int(0.8*len(pic_list)); to_pick"
   ]
  },
  {
   "cell_type": "code",
   "execution_count": 21,
   "metadata": {},
   "outputs": [],
   "source": [
    "inds = np.arange(len(pic_list))\n",
    "train_ind = np.random.choice(np.arange(len(pic_list)), to_pick, replace=False)\n",
    "valid_ind = np.delete(inds, train_ind)"
   ]
  },
  {
   "cell_type": "code",
   "execution_count": 22,
   "metadata": {},
   "outputs": [],
   "source": [
    "pic_list = np.array(pic_list)\n",
    "train_im = pic_list[train_ind]\n",
    "valid_im = pic_list[valid_ind]"
   ]
  },
  {
   "cell_type": "code",
   "execution_count": 23,
   "metadata": {},
   "outputs": [],
   "source": [
    "os.makedirs('../images/ims_mw/train', exist_ok=False)\n",
    "os.makedirs('../images/ims_mw/valid', exist_ok=False)"
   ]
  },
  {
   "cell_type": "code",
   "execution_count": 24,
   "metadata": {},
   "outputs": [],
   "source": [
    "t = df_mw.iloc[train_ind]\n",
    "v = df_mw.iloc[valid_ind]"
   ]
  },
  {
   "cell_type": "code",
   "execution_count": 25,
   "metadata": {},
   "outputs": [],
   "source": [
    "for fi, l in zip(t['images_renamed'], t['nightlight_bin']):\n",
    "    os.makedirs('../images/ims_mw/train/{}'.format(l), exist_ok=True)\n",
    "    shutil.copy('../images/ims_mw/ims/{}'.format(fi), '../images/ims_mw/train/{}'.format(l))\n",
    "    \n",
    "for fi, l in zip(v['images_renamed'], v['nightlight_bin']):\n",
    "    os.makedirs('../images/ims_mw/valid/{}'.format(l), exist_ok=True)\n",
    "    shutil.copy('../images/ims_mw/ims/{}'.format(fi), '../images/ims_mw/valid/{}'.format(l))"
   ]
  },
  {
   "cell_type": "code",
   "execution_count": 26,
   "metadata": {},
   "outputs": [
    {
     "name": "stdout",
     "output_type": "stream",
     "text": [
      "17175\n",
      "13893\n",
      "3619\n"
     ]
    }
   ],
   "source": [
    "# shows count distribution in train folder\n",
    "for i in range(1,4):\n",
    "    print(len(os.listdir('../images/ims_mw/train/{}'.format(str(i)))))"
   ]
  },
  {
   "cell_type": "code",
   "execution_count": 27,
   "metadata": {},
   "outputs": [
    {
     "name": "stdout",
     "output_type": "stream",
     "text": [
      "4167\n",
      "3557\n",
      "948\n"
     ]
    }
   ],
   "source": [
    "# shows count distribution in valid folder\n",
    "for i in range(1,4):\n",
    "    print(len(os.listdir('../images/ims_mw/valid/{}'.format(str(i)))))"
   ]
  },
  {
   "cell_type": "code",
   "execution_count": null,
   "metadata": {},
   "outputs": [],
   "source": []
  },
  {
   "cell_type": "code",
   "execution_count": null,
   "metadata": {},
   "outputs": [],
   "source": []
  },
  {
   "cell_type": "code",
   "execution_count": null,
   "metadata": {},
   "outputs": [],
   "source": []
  }
 ],
 "metadata": {
  "kernelspec": {
   "display_name": "Python 3",
   "language": "python",
   "name": "python3"
  },
  "language_info": {
   "codemirror_mode": {
    "name": "ipython",
    "version": 3
   },
   "file_extension": ".py",
   "mimetype": "text/x-python",
   "name": "python",
   "nbconvert_exporter": "python",
   "pygments_lexer": "ipython3",
   "version": "3.7.3"
  }
 },
 "nbformat": 4,
 "nbformat_minor": 2
}
