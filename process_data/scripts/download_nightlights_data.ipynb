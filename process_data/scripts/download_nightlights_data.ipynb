{
 "cells": [
  {
   "cell_type": "code",
   "execution_count": 3,
   "metadata": {},
   "outputs": [],
   "source": [
    "import os\n",
    "import requests"
   ]
  },
  {
   "cell_type": "code",
   "execution_count": 7,
   "metadata": {},
   "outputs": [],
   "source": [
    "os.makedirs('../data/input/Nightlights')"
   ]
  },
  {
   "cell_type": "code",
   "execution_count": 8,
   "metadata": {},
   "outputs": [
    {
     "name": "stdout",
     "output_type": "stream",
     "text": [
      "2013\n"
     ]
    }
   ],
   "source": [
    "# these each take several minutes just to download\n",
    "# since I am only showing how to do this for Malawi 2016 data, \n",
    "# we really only need the 2013 data, as that is the closest year the NOAA maintains\n",
    "for year in [2013]:\n",
    "    print(year)\n",
    "    year = str(year)\n",
    "    url = 'https://ngdc.noaa.gov/eog/data/web_data/v4composites/F18' + year + '.v4.tar'\n",
    "    target = '../data/input/Nightlights/' + year\n",
    "    os.makedirs(target, exist_ok=True)\n",
    "    target += '/nightlights_data'\n",
    "    response = requests.get(url, stream=True)\n",
    "    if response.status_code == 200:\n",
    "        with open(target, 'wb') as f:\n",
    "            f.write(response.raw.read())"
   ]
  },
  {
   "cell_type": "code",
   "execution_count": 19,
   "metadata": {},
   "outputs": [
    {
     "name": "stdout",
     "output_type": "stream",
     "text": [
      "2013\n",
      "x F182013.v4c_web.avg_vis.tfw\n",
      "x F182013.v4c_web.avg_vis.tif.gz\n",
      "x F182013.v4c_web.cf_cvg.tfw\n",
      "x F182013.v4c_web.cf_cvg.tif.gz\n",
      "x F182013.v4c_web.stable_lights.avg_vis.tfw\n",
      "x F182013.v4c_web.stable_lights.avg_vis.tif.gz\n",
      "x README_V4.txt\n",
      ".DS_Store\n",
      "F182013.v4c_web.cf_cvg.tif.gz\n",
      "rm: ../data/input/Nightlights/2013/F182013.v4c_web.cf_cvg.tif.gz: No such file or directory\n",
      "F182013.v4c_web.cf_cvg.tfw\n",
      "F182013.v4c_web.avg_vis.tfw\n",
      "F182013.v4c_web.avg_vis.tif.gz\n",
      "rm: ../data/input/Nightlights/2013/F182013.v4c_web.avg_vis.tif.gz: No such file or directory\n",
      "F182013.v4c_web.stable_lights.avg_vis.tif.gz\n",
      "rm: ../data/input/Nightlights/2013/F182013.v4c_web.stable_lights.avg_vis.tif.gz: No such file or directory\n",
      "README_V4.txt\n",
      "F182013.v4c_web.stable_lights.avg_vis.tfw\n"
     ]
    }
   ],
   "source": [
    "# this unzips the data\n",
    "for year in [2013]:\n",
    "    print(year)\n",
    "    year = str(year)\n",
    "    folder_loc = '../data/input/Nightlights/' + year\n",
    "    file_loc = folder_loc + '/nightlights_data'\n",
    "    !tar -C {folder_loc} -xzvf {file_loc}\n",
    "    !rm {file_loc}\n",
    "    \n",
    "    files = os.listdir('../data/input/Nightlights/' + year)\n",
    "    for file in files:\n",
    "        path = '../data/input/Nightlights/' + year + '/' + file\n",
    "        if 'stable' not in file: # only need stable_lights\n",
    "            if file.split('.')[-1] == 'gz':\n",
    "                # unzip the file is a .gz file\n",
    "                !gunzip {path}\n",
    "        !rm {path}"
   ]
  },
  {
   "cell_type": "code",
   "execution_count": null,
   "metadata": {},
   "outputs": [],
   "source": []
  },
  {
   "cell_type": "code",
   "execution_count": null,
   "metadata": {},
   "outputs": [],
   "source": []
  },
  {
   "cell_type": "code",
   "execution_count": null,
   "metadata": {},
   "outputs": [],
   "source": []
  }
 ],
 "metadata": {
  "kernelspec": {
   "display_name": "predicting-poverty-replication",
   "language": "python",
   "name": "predicting-poverty-replication"
  },
  "language_info": {
   "codemirror_mode": {
    "name": "ipython",
    "version": 3
   },
   "file_extension": ".py",
   "mimetype": "text/x-python",
   "name": "python",
   "nbconvert_exporter": "python",
   "pygments_lexer": "ipython3",
   "version": "3.7.3"
  }
 },
 "nbformat": 4,
 "nbformat_minor": 2
}
