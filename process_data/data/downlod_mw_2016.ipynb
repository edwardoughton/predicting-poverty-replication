{
 "cells": [
  {
   "cell_type": "markdown",
   "metadata": {},
   "source": [
    "Script to download \"2016\" (really 2018-2019 but using the images determined by the script that was run on the 2016 data) Malawi images"
   ]
  },
  {
   "cell_type": "code",
   "execution_count": 148,
   "metadata": {},
   "outputs": [],
   "source": [
    "import pandas as pd\n",
    "import numpy as np"
   ]
  },
  {
   "cell_type": "code",
   "execution_count": 149,
   "metadata": {},
   "outputs": [
    {
     "name": "stdout",
     "output_type": "stream",
     "text": [
      "Malawi-2016-LSMS-Cluster.csv   households.npy\r\n",
      "Malawi-2016-LSMS-Household.csv lats.npy\r\n",
      "candidate_download_locs.txt    lons.npy\r\n",
      "consumptions.npy               nightlights.npy\r\n"
     ]
    }
   ],
   "source": [
    "!ls output/LSMS/malawi-2016/"
   ]
  },
  {
   "cell_type": "code",
   "execution_count": 150,
   "metadata": {},
   "outputs": [],
   "source": [
    "df_mw = pd.read_csv('output/LSMS/malawi-2016/candidate_download_locs.txt', sep=' ', header=None, names=['im_lat', 'im_lon', 'clust_lat', 'clust_lon'])"
   ]
  },
  {
   "cell_type": "code",
   "execution_count": 151,
   "metadata": {},
   "outputs": [
    {
     "data": {
      "text/plain": [
       "(90943, 4)"
      ]
     },
     "execution_count": 151,
     "metadata": {},
     "output_type": "execute_result"
    }
   ],
   "source": [
    "df_mw.shape"
   ]
  },
  {
   "cell_type": "markdown",
   "metadata": {},
   "source": [
    "# Create Datasets"
   ]
  },
  {
   "cell_type": "markdown",
   "metadata": {},
   "source": [
    "Each country in this folder should have:\n",
    "1. 'nightlights.npy'\n",
    "2. 'consumptions.npy'\n",
    "These are aggregated at a cluster level.\n",
    "\n",
    "This function will add in these values at the cluster level for each image. That is, we now get a dataframe that has cluster nightlight and consumption values for each image."
   ]
  },
  {
   "cell_type": "code",
   "execution_count": 152,
   "metadata": {},
   "outputs": [],
   "source": [
    "def create_df(country, df_orig):\n",
    "    c_nightlight = np.load('output/LSMS/{}/nightlights.npy'.format(country))\n",
    "    c_consumption = np.load('output/LSMS/{}/consumptions.npy'.format(country))\n",
    "    c_groups = df_orig.groupby(['clust_lat', 'clust_lon'])\n",
    "    counts = c_groups.count()\n",
    "    counts['nightlight'] = c_nightlight\n",
    "    counts['consumption'] = c_consumption\n",
    "    counts = counts.reset_index().drop(['im_lat', 'im_lon'], axis=1)\n",
    "    df_c = pd.merge(left=df_orig, right=counts, on=['clust_lat', 'clust_lon'])\n",
    "    return df_c"
   ]
  },
  {
   "cell_type": "code",
   "execution_count": 153,
   "metadata": {},
   "outputs": [],
   "source": [
    "df_mw = create_df('malawi-2016', df_mw)"
   ]
  },
  {
   "cell_type": "code",
   "execution_count": 154,
   "metadata": {},
   "outputs": [
    {
     "data": {
      "text/html": [
       "<div>\n",
       "<style scoped>\n",
       "    .dataframe tbody tr th:only-of-type {\n",
       "        vertical-align: middle;\n",
       "    }\n",
       "\n",
       "    .dataframe tbody tr th {\n",
       "        vertical-align: top;\n",
       "    }\n",
       "\n",
       "    .dataframe thead th {\n",
       "        text-align: right;\n",
       "    }\n",
       "</style>\n",
       "<table border=\"1\" class=\"dataframe\">\n",
       "  <thead>\n",
       "    <tr style=\"text-align: right;\">\n",
       "      <th></th>\n",
       "      <th>im_lat</th>\n",
       "      <th>im_lon</th>\n",
       "      <th>clust_lat</th>\n",
       "      <th>clust_lon</th>\n",
       "      <th>nightlight</th>\n",
       "      <th>consumption</th>\n",
       "    </tr>\n",
       "  </thead>\n",
       "  <tbody>\n",
       "    <tr>\n",
       "      <th>0</th>\n",
       "      <td>-17.050000</td>\n",
       "      <td>35.174999</td>\n",
       "      <td>-17.09515</td>\n",
       "      <td>35.217213</td>\n",
       "      <td>0.0</td>\n",
       "      <td>2.039307</td>\n",
       "    </tr>\n",
       "    <tr>\n",
       "      <th>1</th>\n",
       "      <td>-17.058333</td>\n",
       "      <td>35.174999</td>\n",
       "      <td>-17.09515</td>\n",
       "      <td>35.217213</td>\n",
       "      <td>0.0</td>\n",
       "      <td>2.039307</td>\n",
       "    </tr>\n",
       "    <tr>\n",
       "      <th>2</th>\n",
       "      <td>-17.066666</td>\n",
       "      <td>35.174999</td>\n",
       "      <td>-17.09515</td>\n",
       "      <td>35.217213</td>\n",
       "      <td>0.0</td>\n",
       "      <td>2.039307</td>\n",
       "    </tr>\n",
       "    <tr>\n",
       "      <th>3</th>\n",
       "      <td>-17.075000</td>\n",
       "      <td>35.174999</td>\n",
       "      <td>-17.09515</td>\n",
       "      <td>35.217213</td>\n",
       "      <td>0.0</td>\n",
       "      <td>2.039307</td>\n",
       "    </tr>\n",
       "    <tr>\n",
       "      <th>4</th>\n",
       "      <td>-17.083333</td>\n",
       "      <td>35.174999</td>\n",
       "      <td>-17.09515</td>\n",
       "      <td>35.217213</td>\n",
       "      <td>0.0</td>\n",
       "      <td>2.039307</td>\n",
       "    </tr>\n",
       "  </tbody>\n",
       "</table>\n",
       "</div>"
      ],
      "text/plain": [
       "      im_lat     im_lon  clust_lat  clust_lon  nightlight  consumption\n",
       "0 -17.050000  35.174999  -17.09515  35.217213         0.0     2.039307\n",
       "1 -17.058333  35.174999  -17.09515  35.217213         0.0     2.039307\n",
       "2 -17.066666  35.174999  -17.09515  35.217213         0.0     2.039307\n",
       "3 -17.075000  35.174999  -17.09515  35.217213         0.0     2.039307\n",
       "4 -17.083333  35.174999  -17.09515  35.217213         0.0     2.039307"
      ]
     },
     "execution_count": 154,
     "metadata": {},
     "output_type": "execute_result"
    }
   ],
   "source": [
    "df_mw.head()"
   ]
  },
  {
   "cell_type": "code",
   "execution_count": 155,
   "metadata": {},
   "outputs": [
    {
     "data": {
      "text/plain": [
       "(90943, 6)"
      ]
     },
     "execution_count": 155,
     "metadata": {},
     "output_type": "execute_result"
    }
   ],
   "source": [
    "df_mw.shape"
   ]
  },
  {
   "cell_type": "code",
   "execution_count": 156,
   "metadata": {},
   "outputs": [
    {
     "name": "stdout",
     "output_type": "stream",
     "text": [
      "0.4980042444168325\n"
     ]
    }
   ],
   "source": [
    "# most nightlights are 0\n",
    "# let's download images that have nonzero nightlights to induce variety into the model\n",
    "print((df_mw['nightlight'] == 0).mean())"
   ]
  },
  {
   "cell_type": "code",
   "execution_count": 157,
   "metadata": {},
   "outputs": [],
   "source": [
    "# let's drop 75% of 0 nightlight images...\n",
    "def drop_0s(df, frac=0.9):\n",
    "    z_inds = np.argwhere(df['nightlight'].values == 0).reshape(-1)\n",
    "    drop = np.random.choice(z_inds, int(frac*len(z_inds))).reshape(-1)\n",
    "    return df.drop(df.index[drop])"
   ]
  },
  {
   "cell_type": "code",
   "execution_count": 158,
   "metadata": {},
   "outputs": [],
   "source": [
    "df_mw = drop_0s(df_mw, frac=0.9)"
   ]
  },
  {
   "cell_type": "code",
   "execution_count": 159,
   "metadata": {},
   "outputs": [
    {
     "data": {
      "text/plain": [
       "((64067, 6), 0.28741785942841086)"
      ]
     },
     "execution_count": 159,
     "metadata": {},
     "output_type": "execute_result"
    }
   ],
   "source": [
    "df_mw.shape, (df_mw['nightlight'] == 0).mean()"
   ]
  },
  {
   "cell_type": "code",
   "execution_count": 160,
   "metadata": {},
   "outputs": [
    {
     "data": {
      "text/plain": [
       "((53140, 6), 0.1408919834399699)"
      ]
     },
     "execution_count": 160,
     "metadata": {},
     "output_type": "execute_result"
    }
   ],
   "source": [
    "df_mw = drop_0s(df_mw, frac=0.9)\n",
    "df_mw.shape, (df_mw['nightlight'] == 0).mean() # let's get it under 10%"
   ]
  },
  {
   "cell_type": "code",
   "execution_count": 161,
   "metadata": {},
   "outputs": [
    {
     "data": {
      "text/plain": [
       "((49797, 6), 0.08321786452999176)"
      ]
     },
     "execution_count": 161,
     "metadata": {},
     "output_type": "execute_result"
    }
   ],
   "source": [
    "df_mw = drop_0s(df_mw, frac=0.6)\n",
    "df_mw.shape, (df_mw['nightlight'] == 0).mean() # this seems like a better ratio"
   ]
  },
  {
   "cell_type": "code",
   "execution_count": 162,
   "metadata": {},
   "outputs": [
    {
     "data": {
      "text/plain": [
       "0.4926602004136795"
      ]
     },
     "execution_count": 162,
     "metadata": {},
     "output_type": "execute_result"
    }
   ],
   "source": [
    "(df_mw['nightlight'] < 1).mean() # still most data is under 1"
   ]
  },
  {
   "cell_type": "code",
   "execution_count": 163,
   "metadata": {},
   "outputs": [],
   "source": [
    "def drop_under(df, cutoff=1, frac=0.5):\n",
    "    z_inds = np.argwhere(df['nightlight'].values <= cutoff).reshape(-1)\n",
    "    drop = np.random.choice(z_inds, int(frac*len(z_inds))).reshape(-1)\n",
    "    return df.drop(df.index[drop])"
   ]
  },
  {
   "cell_type": "code",
   "execution_count": 164,
   "metadata": {},
   "outputs": [],
   "source": [
    "df_mw = drop_under(df_mw, cutoff=1, frac=0.3)"
   ]
  },
  {
   "cell_type": "code",
   "execution_count": 165,
   "metadata": {},
   "outputs": [],
   "source": [
    "from sklearn.mixture import GaussianMixture as GMM\n",
    "X = df_mw['nightlight'].values.reshape(-1,1)\n",
    "gmm = GMM(n_components=3).fit(X)\n",
    "labels = gmm.predict(df_mw['nightlight'].values.reshape(-1,1))"
   ]
  },
  {
   "cell_type": "code",
   "execution_count": 166,
   "metadata": {},
   "outputs": [
    {
     "data": {
      "text/plain": [
       "(0.5501484772449989, 0.37895076080200735, 0.07090076195299372)"
      ]
     },
     "execution_count": 166,
     "metadata": {},
     "output_type": "execute_result"
    }
   ],
   "source": [
    "(labels==0).mean(), (labels==1).mean(), (labels==2).mean()"
   ]
  },
  {
   "cell_type": "code",
   "execution_count": 167,
   "metadata": {},
   "outputs": [
    {
     "data": {
      "text/plain": [
       "(1.9142857142857144, 14.809917355371907, 48.41322314049588)"
      ]
     },
     "execution_count": 167,
     "metadata": {},
     "output_type": "execute_result"
    }
   ],
   "source": [
    "df_mw['nightlight'][labels==0].max(), df_mw['nightlight'][labels==1].max(), df_mw['nightlight'][labels==2].max()"
   ]
  },
  {
   "cell_type": "code",
   "execution_count": 171,
   "metadata": {},
   "outputs": [
    {
     "data": {
      "text/plain": [
       "(0.493174650675629, 0.40169425197394165, 0.10513109735042932)"
      ]
     },
     "execution_count": 171,
     "metadata": {},
     "output_type": "execute_result"
    }
   ],
   "source": [
    "# let's smudge these numbers a little to raise the percentage in class 2\n",
    "# we need the distribution to be somewhat even\n",
    "(df_mw['nightlight'] < 1.5).mean(), \\\n",
    "((df_mw['nightlight'] >= 1.5) & (df_mw['nightlight'] < 11)).mean(), \\\n",
    "(df_mw['nightlight'] >= 11).mean()"
   ]
  },
  {
   "cell_type": "code",
   "execution_count": 172,
   "metadata": {},
   "outputs": [],
   "source": [
    "df_mw['nightlight_bin'] = (df_mw['nightlight'] < 1.5)*1 + \\\n",
    "                    ((df_mw['nightlight'] >= 1.5) & (df_mw['nightlight'] < 11))*2 + \\\n",
    "                    (df_mw['nightlight'] >= 11)*3"
   ]
  },
  {
   "cell_type": "code",
   "execution_count": 173,
   "metadata": {},
   "outputs": [
    {
     "data": {
      "text/html": [
       "<div>\n",
       "<style scoped>\n",
       "    .dataframe tbody tr th:only-of-type {\n",
       "        vertical-align: middle;\n",
       "    }\n",
       "\n",
       "    .dataframe tbody tr th {\n",
       "        vertical-align: top;\n",
       "    }\n",
       "\n",
       "    .dataframe thead th {\n",
       "        text-align: right;\n",
       "    }\n",
       "</style>\n",
       "<table border=\"1\" class=\"dataframe\">\n",
       "  <thead>\n",
       "    <tr style=\"text-align: right;\">\n",
       "      <th></th>\n",
       "      <th>im_lat</th>\n",
       "      <th>im_lon</th>\n",
       "      <th>clust_lat</th>\n",
       "      <th>clust_lon</th>\n",
       "      <th>nightlight</th>\n",
       "      <th>consumption</th>\n",
       "      <th>nightlight_bin</th>\n",
       "    </tr>\n",
       "  </thead>\n",
       "  <tbody>\n",
       "    <tr>\n",
       "      <th>9</th>\n",
       "      <td>-17.125000</td>\n",
       "      <td>35.174999</td>\n",
       "      <td>-17.09515</td>\n",
       "      <td>35.217213</td>\n",
       "      <td>0.0</td>\n",
       "      <td>2.039307</td>\n",
       "      <td>1</td>\n",
       "    </tr>\n",
       "    <tr>\n",
       "      <th>10</th>\n",
       "      <td>-17.133333</td>\n",
       "      <td>35.174999</td>\n",
       "      <td>-17.09515</td>\n",
       "      <td>35.217213</td>\n",
       "      <td>0.0</td>\n",
       "      <td>2.039307</td>\n",
       "      <td>1</td>\n",
       "    </tr>\n",
       "    <tr>\n",
       "      <th>24</th>\n",
       "      <td>-17.066666</td>\n",
       "      <td>35.191666</td>\n",
       "      <td>-17.09515</td>\n",
       "      <td>35.217213</td>\n",
       "      <td>0.0</td>\n",
       "      <td>2.039307</td>\n",
       "      <td>1</td>\n",
       "    </tr>\n",
       "    <tr>\n",
       "      <th>33</th>\n",
       "      <td>-17.050000</td>\n",
       "      <td>35.199999</td>\n",
       "      <td>-17.09515</td>\n",
       "      <td>35.217213</td>\n",
       "      <td>0.0</td>\n",
       "      <td>2.039307</td>\n",
       "      <td>1</td>\n",
       "    </tr>\n",
       "    <tr>\n",
       "      <th>39</th>\n",
       "      <td>-17.100000</td>\n",
       "      <td>35.199999</td>\n",
       "      <td>-17.09515</td>\n",
       "      <td>35.217213</td>\n",
       "      <td>0.0</td>\n",
       "      <td>2.039307</td>\n",
       "      <td>1</td>\n",
       "    </tr>\n",
       "  </tbody>\n",
       "</table>\n",
       "</div>"
      ],
      "text/plain": [
       "       im_lat     im_lon  clust_lat  clust_lon  nightlight  consumption  \\\n",
       "9  -17.125000  35.174999  -17.09515  35.217213         0.0     2.039307   \n",
       "10 -17.133333  35.174999  -17.09515  35.217213         0.0     2.039307   \n",
       "24 -17.066666  35.191666  -17.09515  35.217213         0.0     2.039307   \n",
       "33 -17.050000  35.199999  -17.09515  35.217213         0.0     2.039307   \n",
       "39 -17.100000  35.199999  -17.09515  35.217213         0.0     2.039307   \n",
       "\n",
       "    nightlight_bin  \n",
       "9                1  \n",
       "10               1  \n",
       "24               1  \n",
       "33               1  \n",
       "39               1  "
      ]
     },
     "execution_count": 173,
     "metadata": {},
     "output_type": "execute_result"
    }
   ],
   "source": [
    "df_mw.head()"
   ]
  },
  {
   "cell_type": "code",
   "execution_count": 174,
   "metadata": {},
   "outputs": [
    {
     "data": {
      "text/plain": [
       "(43441, 7)"
      ]
     },
     "execution_count": 174,
     "metadata": {},
     "output_type": "execute_result"
    }
   ],
   "source": [
    "df_mw.shape"
   ]
  },
  {
   "cell_type": "code",
   "execution_count": 175,
   "metadata": {},
   "outputs": [],
   "source": [
    "df_mw.to_csv('mw_2016_guide.csv', index=False)"
   ]
  },
  {
   "cell_type": "code",
   "execution_count": 176,
   "metadata": {},
   "outputs": [
    {
     "name": "stdout",
     "output_type": "stream",
     "text": [
      "(23464, 7)\n"
     ]
    }
   ],
   "source": [
    "# we don't need to download repeat images, as that reduces our download size significantly\n",
    "# some images can belong to 2+ clusters\n",
    "print(df_mw.drop_duplicates(['im_lat', 'im_lon']).shape)"
   ]
  },
  {
   "cell_type": "code",
   "execution_count": 177,
   "metadata": {},
   "outputs": [],
   "source": [
    "mw_download = df_mw.drop_duplicates(['im_lat', 'im_lon'])"
   ]
  },
  {
   "cell_type": "code",
   "execution_count": 178,
   "metadata": {},
   "outputs": [],
   "source": [
    "mw_download.to_csv('mw_2016_download.csv', index=False)"
   ]
  },
  {
   "cell_type": "code",
   "execution_count": null,
   "metadata": {},
   "outputs": [],
   "source": []
  },
  {
   "cell_type": "markdown",
   "metadata": {},
   "source": [
    "# Download Images\n",
    "\n",
    "Now we actually download images"
   ]
  },
  {
   "cell_type": "code",
   "execution_count": 1,
   "metadata": {},
   "outputs": [],
   "source": [
    "\"\"\"Interface for downloading aerial imagery from Google Static Maps API.\n",
    "- Get an API key at https://developers.google.com/maps/documentation/maps-static/intro\n",
    "\"\"\"\n",
    "\n",
    "import requests\n",
    "from PIL import Image\n",
    "from io import BytesIO\n",
    "\n",
    "class ImageryDownloader:\n",
    "    def __init__(self, access_token):\n",
    "        \"\"\"Initializes the object with an access token\"\"\"\n",
    "        self.access_token = access_token\n",
    "        self.url = 'https://maps.googleapis.com/maps/api/staticmap?center={},{}&zoom={}&size=400x400&maptype=satellite&key={}'\n",
    "    \n",
    "    def download_tile(self, lat, long, zoom):\n",
    "        \"\"\"Downloads lat long\n",
    "        \"\"\"\n",
    "        res = requests.get(self.url.format(lat, long, zoom, self.access_token))\n",
    "        image = Image.open(BytesIO(res.content))\n",
    "\n",
    "        return image"
   ]
  },
  {
   "cell_type": "code",
   "execution_count": 6,
   "metadata": {},
   "outputs": [],
   "source": [
    "access = None\n",
    "with open('api_key.txt', 'r') as f:\n",
    "    access = f.readlines()[0]\n",
    "    \n",
    "im_downloader = ImageryDownloader(access)"
   ]
  },
  {
   "cell_type": "code",
   "execution_count": 30,
   "metadata": {},
   "outputs": [],
   "source": [
    "!mkdir ims_malawi_2016"
   ]
  },
  {
   "cell_type": "code",
   "execution_count": null,
   "metadata": {},
   "outputs": [
    {
     "name": "stdout",
     "output_type": "stream",
     "text": [
      "0, 200, 400, 800, 900, 1600, 1800, 2500, 3000, 3200, 3600, 3700, 4600, 4800, 5400, 6000, 6200, 6500, 6900, 7000, 7100, 7200, 7700, 7800, 8300, 8400, 8800, 9000, 9200, 9300, 10000, 10500, 11100, 11200, 11300, 11400, 11500, 11700, 11800, 11900, "
     ]
    }
   ],
   "source": [
    "im_names = []\n",
    "zoom = 16\n",
    "for i, r in mw_download.iterrows():\n",
    "    lat = r.im_lat\n",
    "    long = r.im_lon\n",
    "    xtile, ytile = deg_to_tile(lat, long, zoom) # max zoom\n",
    "    try:\n",
    "        im = im_downloader.download_tile(xtile, ytile, zoom)\n",
    "        name = str(lat) + '_' + str(long)\n",
    "        im.save('ims_malawi_2016/{}.png'.format(name))\n",
    "        im_names.append(name + '.png')\n",
    "    except:\n",
    "        im_names.append(np.nan)\n",
    "    if i % 100 == 0:\n",
    "        # the counting is kind of off for some reason\n",
    "        print(i, end=', ')\n",
    "        \n",
    "mw_download['images'] = im_names\n",
    "mw_download.to_csv('mw_2016_download_info.csv', index=False)"
   ]
  },
  {
   "cell_type": "code",
   "execution_count": null,
   "metadata": {},
   "outputs": [],
   "source": []
  }
 ],
 "metadata": {
  "kernelspec": {
   "display_name": "predicting-poverty-replication",
   "language": "python",
   "name": "predicting-poverty-replication"
  },
  "language_info": {
   "codemirror_mode": {
    "name": "ipython",
    "version": 3
   },
   "file_extension": ".py",
   "mimetype": "text/x-python",
   "name": "python",
   "nbconvert_exporter": "python",
   "pygments_lexer": "ipython3",
   "version": "3.7.3"
  }
 },
 "nbformat": 4,
 "nbformat_minor": 2
}
